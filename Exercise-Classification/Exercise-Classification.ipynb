{
 "cells": [
  {
   "cell_type": "markdown",
   "metadata": {
    "collapsed": true
   },
   "source": [
    "# This notebook is for course four : Classification Analysis (Supervised Learning)"
   ]
  },
  {
   "cell_type": "markdown",
   "metadata": {},
   "source": [
    "### Importing Data Files"
   ]
  },
  {
   "cell_type": "code",
   "execution_count": 1,
   "metadata": {},
   "outputs": [],
   "source": [
    "import pandas as pd\n",
    "import numpy as np"
   ]
  },
  {
   "cell_type": "code",
   "execution_count": 2,
   "metadata": {},
   "outputs": [
    {
     "data": {
      "text/html": [
       "<div>\n",
       "<style scoped>\n",
       "    .dataframe tbody tr th:only-of-type {\n",
       "        vertical-align: middle;\n",
       "    }\n",
       "\n",
       "    .dataframe tbody tr th {\n",
       "        vertical-align: top;\n",
       "    }\n",
       "\n",
       "    .dataframe thead th {\n",
       "        text-align: right;\n",
       "    }\n",
       "</style>\n",
       "<table border=\"1\" class=\"dataframe\">\n",
       "  <thead>\n",
       "    <tr style=\"text-align: right;\">\n",
       "      <th></th>\n",
       "      <th>PRODUCT CODE</th>\n",
       "      <th>PRODUCT CATEGORY</th>\n",
       "      <th>UNIT LIST PRICE</th>\n",
       "    </tr>\n",
       "  </thead>\n",
       "  <tbody>\n",
       "    <tr>\n",
       "      <th>0</th>\n",
       "      <td>30001</td>\n",
       "      <td>HEALTH &amp; BEAUTY</td>\n",
       "      <td>$7.45</td>\n",
       "    </tr>\n",
       "    <tr>\n",
       "      <th>1</th>\n",
       "      <td>30002</td>\n",
       "      <td>HEALTH &amp; BEAUTY</td>\n",
       "      <td>$5.35</td>\n",
       "    </tr>\n",
       "    <tr>\n",
       "      <th>2</th>\n",
       "      <td>30003</td>\n",
       "      <td>HEALTH &amp; BEAUTY</td>\n",
       "      <td>$5.49</td>\n",
       "    </tr>\n",
       "    <tr>\n",
       "      <th>3</th>\n",
       "      <td>30004</td>\n",
       "      <td>HEALTH &amp; BEAUTY</td>\n",
       "      <td>$6.46</td>\n",
       "    </tr>\n",
       "    <tr>\n",
       "      <th>4</th>\n",
       "      <td>30005</td>\n",
       "      <td>HEALTH &amp; BEAUTY</td>\n",
       "      <td>$7.33</td>\n",
       "    </tr>\n",
       "  </tbody>\n",
       "</table>\n",
       "</div>"
      ],
      "text/plain": [
       "   PRODUCT CODE PRODUCT CATEGORY UNIT LIST PRICE\n",
       "0         30001  HEALTH & BEAUTY          $7.45 \n",
       "1         30002  HEALTH & BEAUTY          $5.35 \n",
       "2         30003  HEALTH & BEAUTY          $5.49 \n",
       "3         30004  HEALTH & BEAUTY          $6.46 \n",
       "4         30005  HEALTH & BEAUTY          $7.33 "
      ]
     },
     "execution_count": 2,
     "metadata": {},
     "output_type": "execute_result"
    }
   ],
   "source": [
    "#Import Product DataSet here\n",
    "product_data = pd.read_csv('../Student Files/Product Data Set - Student 2 of 3.csv', sep = '|')\n",
    "product_data.head()"
   ]
  },
  {
   "cell_type": "code",
   "execution_count": 3,
   "metadata": {
    "scrolled": true
   },
   "outputs": [
    {
     "data": {
      "text/html": [
       "<div>\n",
       "<style scoped>\n",
       "    .dataframe tbody tr th:only-of-type {\n",
       "        vertical-align: middle;\n",
       "    }\n",
       "\n",
       "    .dataframe tbody tr th {\n",
       "        vertical-align: top;\n",
       "    }\n",
       "\n",
       "    .dataframe thead th {\n",
       "        text-align: right;\n",
       "    }\n",
       "</style>\n",
       "<table border=\"1\" class=\"dataframe\">\n",
       "  <thead>\n",
       "    <tr style=\"text-align: right;\">\n",
       "      <th></th>\n",
       "      <th>CUSTOMER NUM</th>\n",
       "      <th>PRODUCT NUM</th>\n",
       "      <th>QUANTITY PURCHASED</th>\n",
       "      <th>DISCOUNT TAKEN</th>\n",
       "      <th>TRANSACTION DATE</th>\n",
       "      <th>STOCKOUT</th>\n",
       "    </tr>\n",
       "  </thead>\n",
       "  <tbody>\n",
       "    <tr>\n",
       "      <th>0</th>\n",
       "      <td>10114</td>\n",
       "      <td>30011</td>\n",
       "      <td>4</td>\n",
       "      <td>0.0</td>\n",
       "      <td>1/2/2015</td>\n",
       "      <td>0</td>\n",
       "    </tr>\n",
       "    <tr>\n",
       "      <th>1</th>\n",
       "      <td>10217</td>\n",
       "      <td>30016</td>\n",
       "      <td>3</td>\n",
       "      <td>0.0</td>\n",
       "      <td>1/2/2015</td>\n",
       "      <td>0</td>\n",
       "    </tr>\n",
       "    <tr>\n",
       "      <th>2</th>\n",
       "      <td>10224</td>\n",
       "      <td>30013</td>\n",
       "      <td>4</td>\n",
       "      <td>0.0</td>\n",
       "      <td>1/2/2015</td>\n",
       "      <td>0</td>\n",
       "    </tr>\n",
       "    <tr>\n",
       "      <th>3</th>\n",
       "      <td>10103</td>\n",
       "      <td>30012</td>\n",
       "      <td>3</td>\n",
       "      <td>0.2</td>\n",
       "      <td>1/2/2015</td>\n",
       "      <td>0</td>\n",
       "    </tr>\n",
       "    <tr>\n",
       "      <th>4</th>\n",
       "      <td>10037</td>\n",
       "      <td>30010</td>\n",
       "      <td>8</td>\n",
       "      <td>0.0</td>\n",
       "      <td>1/2/2015</td>\n",
       "      <td>0</td>\n",
       "    </tr>\n",
       "  </tbody>\n",
       "</table>\n",
       "</div>"
      ],
      "text/plain": [
       "   CUSTOMER NUM  PRODUCT NUM  QUANTITY PURCHASED  DISCOUNT TAKEN  \\\n",
       "0         10114        30011                   4             0.0   \n",
       "1         10217        30016                   3             0.0   \n",
       "2         10224        30013                   4             0.0   \n",
       "3         10103        30012                   3             0.2   \n",
       "4         10037        30010                   8             0.0   \n",
       "\n",
       "  TRANSACTION DATE  STOCKOUT  \n",
       "0         1/2/2015         0  \n",
       "1         1/2/2015         0  \n",
       "2         1/2/2015         0  \n",
       "3         1/2/2015         0  \n",
       "4         1/2/2015         0  "
      ]
     },
     "execution_count": 3,
     "metadata": {},
     "output_type": "execute_result"
    }
   ],
   "source": [
    "#Import Transaction DataSet Here\n",
    "transaction_data = pd.read_csv('../Student Files/Transaction Data Set - Student 3 of 3.csv', sep = '|')\n",
    "transaction_data.head()"
   ]
  },
  {
   "cell_type": "code",
   "execution_count": 4,
   "metadata": {},
   "outputs": [
    {
     "data": {
      "text/html": [
       "<div>\n",
       "<style scoped>\n",
       "    .dataframe tbody tr th:only-of-type {\n",
       "        vertical-align: middle;\n",
       "    }\n",
       "\n",
       "    .dataframe tbody tr th {\n",
       "        vertical-align: top;\n",
       "    }\n",
       "\n",
       "    .dataframe thead th {\n",
       "        text-align: right;\n",
       "    }\n",
       "</style>\n",
       "<table border=\"1\" class=\"dataframe\">\n",
       "  <thead>\n",
       "    <tr style=\"text-align: right;\">\n",
       "      <th></th>\n",
       "      <th>CUSTOMERID</th>\n",
       "      <th>GENDER</th>\n",
       "      <th>AGE</th>\n",
       "      <th>INCOME</th>\n",
       "      <th>EXPERIENCE SCORE</th>\n",
       "      <th>LOYALTY GROUP</th>\n",
       "      <th>ENROLLMENT DATE</th>\n",
       "      <th>HOUSEHOLD SIZE</th>\n",
       "      <th>MARITAL STATUS</th>\n",
       "    </tr>\n",
       "  </thead>\n",
       "  <tbody>\n",
       "    <tr>\n",
       "      <th>0</th>\n",
       "      <td>10001</td>\n",
       "      <td>0</td>\n",
       "      <td>64</td>\n",
       "      <td>$133,498</td>\n",
       "      <td>5</td>\n",
       "      <td>enrolled</td>\n",
       "      <td>06-03-2013</td>\n",
       "      <td>4</td>\n",
       "      <td>Single</td>\n",
       "    </tr>\n",
       "    <tr>\n",
       "      <th>1</th>\n",
       "      <td>10002</td>\n",
       "      <td>0</td>\n",
       "      <td>42</td>\n",
       "      <td>$94,475</td>\n",
       "      <td>9</td>\n",
       "      <td>notenrolled</td>\n",
       "      <td>NaN</td>\n",
       "      <td>6</td>\n",
       "      <td>Married</td>\n",
       "    </tr>\n",
       "    <tr>\n",
       "      <th>2</th>\n",
       "      <td>10003</td>\n",
       "      <td>0</td>\n",
       "      <td>40</td>\n",
       "      <td>$88,610</td>\n",
       "      <td>9</td>\n",
       "      <td>enrolled</td>\n",
       "      <td>02-09-2010</td>\n",
       "      <td>5</td>\n",
       "      <td>Married</td>\n",
       "    </tr>\n",
       "    <tr>\n",
       "      <th>3</th>\n",
       "      <td>10004</td>\n",
       "      <td>0</td>\n",
       "      <td>38</td>\n",
       "      <td>$84,313</td>\n",
       "      <td>8</td>\n",
       "      <td>enrolled</td>\n",
       "      <td>06-04-2015</td>\n",
       "      <td>1</td>\n",
       "      <td>Single</td>\n",
       "    </tr>\n",
       "    <tr>\n",
       "      <th>4</th>\n",
       "      <td>10005</td>\n",
       "      <td>0</td>\n",
       "      <td>30</td>\n",
       "      <td>$51,498</td>\n",
       "      <td>3</td>\n",
       "      <td>notenrolled</td>\n",
       "      <td>NaN</td>\n",
       "      <td>1</td>\n",
       "      <td>Single</td>\n",
       "    </tr>\n",
       "  </tbody>\n",
       "</table>\n",
       "</div>"
      ],
      "text/plain": [
       "   CUSTOMERID  GENDER  AGE    INCOME  EXPERIENCE SCORE LOYALTY GROUP  \\\n",
       "0       10001       0   64  $133,498                 5      enrolled   \n",
       "1       10002       0   42   $94,475                 9   notenrolled   \n",
       "2       10003       0   40   $88,610                 9      enrolled   \n",
       "3       10004       0   38   $84,313                 8      enrolled   \n",
       "4       10005       0   30   $51,498                 3   notenrolled   \n",
       "\n",
       "  ENROLLMENT DATE  HOUSEHOLD SIZE MARITAL STATUS  \n",
       "0      06-03-2013               4         Single  \n",
       "1             NaN               6        Married  \n",
       "2      02-09-2010               5        Married  \n",
       "3      06-04-2015               1         Single  \n",
       "4             NaN               1         Single  "
      ]
     },
     "execution_count": 4,
     "metadata": {},
     "output_type": "execute_result"
    }
   ],
   "source": [
    "#Import Customer Dataset Here\n",
    "customer_data = pd.read_csv('../Student Files/Customer Data Set - Student 1 of 3.csv')\n",
    "customer_data.head()"
   ]
  },
  {
   "cell_type": "markdown",
   "metadata": {},
   "source": [
    "### Changing Data Types"
   ]
  },
  {
   "cell_type": "code",
   "execution_count": 5,
   "metadata": {},
   "outputs": [],
   "source": [
    "customer_data['INCOME']=customer_data['INCOME'].map(lambda x : x.replace('$',''))"
   ]
  },
  {
   "cell_type": "code",
   "execution_count": 6,
   "metadata": {},
   "outputs": [],
   "source": [
    "customer_data['INCOME']=customer_data['INCOME'].map(lambda x : int(x.replace(',','')))"
   ]
  },
  {
   "cell_type": "markdown",
   "metadata": {},
   "source": [
    "### Creating Customer View"
   ]
  },
  {
   "cell_type": "code",
   "execution_count": 7,
   "metadata": {},
   "outputs": [],
   "source": [
    "trans_products=transaction_data.merge(product_data,how='inner', left_on='PRODUCT NUM', right_on='PRODUCT CODE')"
   ]
  },
  {
   "cell_type": "code",
   "execution_count": 8,
   "metadata": {},
   "outputs": [],
   "source": [
    "trans_products['UNIT LIST PRICE']=trans_products['UNIT LIST PRICE'].map(lambda x : float(x.replace('$','')))"
   ]
  },
  {
   "cell_type": "code",
   "execution_count": 9,
   "metadata": {},
   "outputs": [],
   "source": [
    "trans_products['Total_Price']=trans_products['QUANTITY PURCHASED'] * trans_products['UNIT LIST PRICE'] * (1- trans_products['DISCOUNT TAKEN'])"
   ]
  },
  {
   "cell_type": "code",
   "execution_count": 10,
   "metadata": {},
   "outputs": [
    {
     "data": {
      "text/html": [
       "<div>\n",
       "<style scoped>\n",
       "    .dataframe tbody tr th:only-of-type {\n",
       "        vertical-align: middle;\n",
       "    }\n",
       "\n",
       "    .dataframe tbody tr th {\n",
       "        vertical-align: top;\n",
       "    }\n",
       "\n",
       "    .dataframe thead th {\n",
       "        text-align: right;\n",
       "    }\n",
       "</style>\n",
       "<table border=\"1\" class=\"dataframe\">\n",
       "  <thead>\n",
       "    <tr style=\"text-align: right;\">\n",
       "      <th></th>\n",
       "      <th></th>\n",
       "      <th>Total_Price</th>\n",
       "    </tr>\n",
       "    <tr>\n",
       "      <th>CUSTOMER NUM</th>\n",
       "      <th>PRODUCT CATEGORY</th>\n",
       "      <th></th>\n",
       "    </tr>\n",
       "  </thead>\n",
       "  <tbody>\n",
       "    <tr>\n",
       "      <th rowspan=\"4\" valign=\"top\">10001</th>\n",
       "      <th>APPAREL</th>\n",
       "      <td>4022.430</td>\n",
       "    </tr>\n",
       "    <tr>\n",
       "      <th>ELECTRONICS</th>\n",
       "      <td>1601.315</td>\n",
       "    </tr>\n",
       "    <tr>\n",
       "      <th>FOOD</th>\n",
       "      <td>68.688</td>\n",
       "    </tr>\n",
       "    <tr>\n",
       "      <th>HEALTH &amp; BEAUTY</th>\n",
       "      <td>1134.337</td>\n",
       "    </tr>\n",
       "    <tr>\n",
       "      <th>10002</th>\n",
       "      <th>APPAREL</th>\n",
       "      <td>2312.509</td>\n",
       "    </tr>\n",
       "  </tbody>\n",
       "</table>\n",
       "</div>"
      ],
      "text/plain": [
       "                               Total_Price\n",
       "CUSTOMER NUM PRODUCT CATEGORY             \n",
       "10001        APPAREL              4022.430\n",
       "             ELECTRONICS          1601.315\n",
       "             FOOD                   68.688\n",
       "             HEALTH & BEAUTY      1134.337\n",
       "10002        APPAREL              2312.509"
      ]
     },
     "execution_count": 10,
     "metadata": {},
     "output_type": "execute_result"
    }
   ],
   "source": [
    "customer_prod_categ=trans_products.groupby(['CUSTOMER NUM','PRODUCT CATEGORY']).agg({'Total_Price':'sum'})\n",
    "customer_prod_categ.head()"
   ]
  },
  {
   "cell_type": "code",
   "execution_count": 11,
   "metadata": {},
   "outputs": [],
   "source": [
    "customer_prod_categ=customer_prod_categ.reset_index()"
   ]
  },
  {
   "cell_type": "code",
   "execution_count": 12,
   "metadata": {},
   "outputs": [],
   "source": [
    "customer_pivot=customer_prod_categ.pivot(index='CUSTOMER NUM',columns='PRODUCT CATEGORY',values='Total_Price')"
   ]
  },
  {
   "cell_type": "code",
   "execution_count": 13,
   "metadata": {},
   "outputs": [
    {
     "data": {
      "text/html": [
       "<div>\n",
       "<style scoped>\n",
       "    .dataframe tbody tr th:only-of-type {\n",
       "        vertical-align: middle;\n",
       "    }\n",
       "\n",
       "    .dataframe tbody tr th {\n",
       "        vertical-align: top;\n",
       "    }\n",
       "\n",
       "    .dataframe thead th {\n",
       "        text-align: right;\n",
       "    }\n",
       "</style>\n",
       "<table border=\"1\" class=\"dataframe\">\n",
       "  <thead>\n",
       "    <tr style=\"text-align: right;\">\n",
       "      <th></th>\n",
       "      <th>TOTAL SPENT</th>\n",
       "    </tr>\n",
       "    <tr>\n",
       "      <th>CUSTOMER NUM</th>\n",
       "      <th></th>\n",
       "    </tr>\n",
       "  </thead>\n",
       "  <tbody>\n",
       "    <tr>\n",
       "      <th>10001</th>\n",
       "      <td>6826.770</td>\n",
       "    </tr>\n",
       "    <tr>\n",
       "      <th>10002</th>\n",
       "      <td>5062.451</td>\n",
       "    </tr>\n",
       "    <tr>\n",
       "      <th>10003</th>\n",
       "      <td>8562.440</td>\n",
       "    </tr>\n",
       "    <tr>\n",
       "      <th>10004</th>\n",
       "      <td>5522.694</td>\n",
       "    </tr>\n",
       "    <tr>\n",
       "      <th>10005</th>\n",
       "      <td>213.512</td>\n",
       "    </tr>\n",
       "  </tbody>\n",
       "</table>\n",
       "</div>"
      ],
      "text/plain": [
       "              TOTAL SPENT\n",
       "CUSTOMER NUM             \n",
       "10001            6826.770\n",
       "10002            5062.451\n",
       "10003            8562.440\n",
       "10004            5522.694\n",
       "10005             213.512"
      ]
     },
     "execution_count": 13,
     "metadata": {},
     "output_type": "execute_result"
    }
   ],
   "source": [
    "trans_total_spend=trans_products.groupby('CUSTOMER NUM').agg({'Total_Price':'sum'}).\\\n",
    "rename(columns={'Total_Price':'TOTAL SPENT'})\n",
    "trans_total_spend.head()"
   ]
  },
  {
   "cell_type": "code",
   "execution_count": 14,
   "metadata": {},
   "outputs": [
    {
     "data": {
      "text/html": [
       "<div>\n",
       "<style scoped>\n",
       "    .dataframe tbody tr th:only-of-type {\n",
       "        vertical-align: middle;\n",
       "    }\n",
       "\n",
       "    .dataframe tbody tr th {\n",
       "        vertical-align: top;\n",
       "    }\n",
       "\n",
       "    .dataframe thead th {\n",
       "        text-align: right;\n",
       "    }\n",
       "</style>\n",
       "<table border=\"1\" class=\"dataframe\">\n",
       "  <thead>\n",
       "    <tr style=\"text-align: right;\">\n",
       "      <th></th>\n",
       "      <th>APPAREL</th>\n",
       "      <th>ELECTRONICS</th>\n",
       "      <th>FOOD</th>\n",
       "      <th>HEALTH &amp; BEAUTY</th>\n",
       "      <th>TOTAL SPENT</th>\n",
       "    </tr>\n",
       "    <tr>\n",
       "      <th>CUSTOMER NUM</th>\n",
       "      <th></th>\n",
       "      <th></th>\n",
       "      <th></th>\n",
       "      <th></th>\n",
       "      <th></th>\n",
       "    </tr>\n",
       "  </thead>\n",
       "  <tbody>\n",
       "    <tr>\n",
       "      <th>10001</th>\n",
       "      <td>4022.430</td>\n",
       "      <td>1601.315</td>\n",
       "      <td>68.688</td>\n",
       "      <td>1134.337</td>\n",
       "      <td>6826.770</td>\n",
       "    </tr>\n",
       "    <tr>\n",
       "      <th>10002</th>\n",
       "      <td>2312.509</td>\n",
       "      <td>2473.163</td>\n",
       "      <td>276.779</td>\n",
       "      <td>NaN</td>\n",
       "      <td>5062.451</td>\n",
       "    </tr>\n",
       "    <tr>\n",
       "      <th>10003</th>\n",
       "      <td>2887.382</td>\n",
       "      <td>5414.418</td>\n",
       "      <td>260.640</td>\n",
       "      <td>NaN</td>\n",
       "      <td>8562.440</td>\n",
       "    </tr>\n",
       "    <tr>\n",
       "      <th>10004</th>\n",
       "      <td>3637.213</td>\n",
       "      <td>1840.211</td>\n",
       "      <td>45.270</td>\n",
       "      <td>NaN</td>\n",
       "      <td>5522.694</td>\n",
       "    </tr>\n",
       "    <tr>\n",
       "      <th>10005</th>\n",
       "      <td>213.512</td>\n",
       "      <td>NaN</td>\n",
       "      <td>NaN</td>\n",
       "      <td>NaN</td>\n",
       "      <td>213.512</td>\n",
       "    </tr>\n",
       "  </tbody>\n",
       "</table>\n",
       "</div>"
      ],
      "text/plain": [
       "               APPAREL  ELECTRONICS     FOOD  HEALTH & BEAUTY  TOTAL SPENT\n",
       "CUSTOMER NUM                                                              \n",
       "10001         4022.430     1601.315   68.688         1134.337     6826.770\n",
       "10002         2312.509     2473.163  276.779              NaN     5062.451\n",
       "10003         2887.382     5414.418  260.640              NaN     8562.440\n",
       "10004         3637.213     1840.211   45.270              NaN     5522.694\n",
       "10005          213.512          NaN      NaN              NaN      213.512"
      ]
     },
     "execution_count": 14,
     "metadata": {},
     "output_type": "execute_result"
    }
   ],
   "source": [
    "customer_KPIs=customer_pivot.merge(trans_total_spend,how='inner',left_index=True, right_index=True )\n",
    "customer_KPIs.head()"
   ]
  },
  {
   "cell_type": "code",
   "execution_count": 15,
   "metadata": {},
   "outputs": [],
   "source": [
    "customer_KPIs=customer_KPIs.fillna(0)\n"
   ]
  },
  {
   "cell_type": "code",
   "execution_count": 16,
   "metadata": {},
   "outputs": [],
   "source": [
    "customer_all_view=customer_data.merge(customer_KPIs,how='inner', left_on='CUSTOMERID', right_index=True)"
   ]
  },
  {
   "cell_type": "code",
   "execution_count": 17,
   "metadata": {},
   "outputs": [
    {
     "data": {
      "text/html": [
       "<div>\n",
       "<style scoped>\n",
       "    .dataframe tbody tr th:only-of-type {\n",
       "        vertical-align: middle;\n",
       "    }\n",
       "\n",
       "    .dataframe tbody tr th {\n",
       "        vertical-align: top;\n",
       "    }\n",
       "\n",
       "    .dataframe thead th {\n",
       "        text-align: right;\n",
       "    }\n",
       "</style>\n",
       "<table border=\"1\" class=\"dataframe\">\n",
       "  <thead>\n",
       "    <tr style=\"text-align: right;\">\n",
       "      <th></th>\n",
       "      <th>CUSTOMERID</th>\n",
       "      <th>GENDER</th>\n",
       "      <th>AGE</th>\n",
       "      <th>INCOME</th>\n",
       "      <th>EXPERIENCE SCORE</th>\n",
       "      <th>LOYALTY GROUP</th>\n",
       "      <th>ENROLLMENT DATE</th>\n",
       "      <th>HOUSEHOLD SIZE</th>\n",
       "      <th>MARITAL STATUS</th>\n",
       "      <th>APPAREL</th>\n",
       "      <th>ELECTRONICS</th>\n",
       "      <th>FOOD</th>\n",
       "      <th>HEALTH &amp; BEAUTY</th>\n",
       "      <th>TOTAL SPENT</th>\n",
       "    </tr>\n",
       "  </thead>\n",
       "  <tbody>\n",
       "    <tr>\n",
       "      <th>0</th>\n",
       "      <td>10001</td>\n",
       "      <td>0</td>\n",
       "      <td>64</td>\n",
       "      <td>133498</td>\n",
       "      <td>5</td>\n",
       "      <td>enrolled</td>\n",
       "      <td>06-03-2013</td>\n",
       "      <td>4</td>\n",
       "      <td>Single</td>\n",
       "      <td>4022.430</td>\n",
       "      <td>1601.315</td>\n",
       "      <td>68.688</td>\n",
       "      <td>1134.337</td>\n",
       "      <td>6826.770</td>\n",
       "    </tr>\n",
       "    <tr>\n",
       "      <th>1</th>\n",
       "      <td>10002</td>\n",
       "      <td>0</td>\n",
       "      <td>42</td>\n",
       "      <td>94475</td>\n",
       "      <td>9</td>\n",
       "      <td>notenrolled</td>\n",
       "      <td>NaN</td>\n",
       "      <td>6</td>\n",
       "      <td>Married</td>\n",
       "      <td>2312.509</td>\n",
       "      <td>2473.163</td>\n",
       "      <td>276.779</td>\n",
       "      <td>0.000</td>\n",
       "      <td>5062.451</td>\n",
       "    </tr>\n",
       "    <tr>\n",
       "      <th>2</th>\n",
       "      <td>10003</td>\n",
       "      <td>0</td>\n",
       "      <td>40</td>\n",
       "      <td>88610</td>\n",
       "      <td>9</td>\n",
       "      <td>enrolled</td>\n",
       "      <td>02-09-2010</td>\n",
       "      <td>5</td>\n",
       "      <td>Married</td>\n",
       "      <td>2887.382</td>\n",
       "      <td>5414.418</td>\n",
       "      <td>260.640</td>\n",
       "      <td>0.000</td>\n",
       "      <td>8562.440</td>\n",
       "    </tr>\n",
       "    <tr>\n",
       "      <th>3</th>\n",
       "      <td>10004</td>\n",
       "      <td>0</td>\n",
       "      <td>38</td>\n",
       "      <td>84313</td>\n",
       "      <td>8</td>\n",
       "      <td>enrolled</td>\n",
       "      <td>06-04-2015</td>\n",
       "      <td>1</td>\n",
       "      <td>Single</td>\n",
       "      <td>3637.213</td>\n",
       "      <td>1840.211</td>\n",
       "      <td>45.270</td>\n",
       "      <td>0.000</td>\n",
       "      <td>5522.694</td>\n",
       "    </tr>\n",
       "    <tr>\n",
       "      <th>4</th>\n",
       "      <td>10005</td>\n",
       "      <td>0</td>\n",
       "      <td>30</td>\n",
       "      <td>51498</td>\n",
       "      <td>3</td>\n",
       "      <td>notenrolled</td>\n",
       "      <td>NaN</td>\n",
       "      <td>1</td>\n",
       "      <td>Single</td>\n",
       "      <td>213.512</td>\n",
       "      <td>0.000</td>\n",
       "      <td>0.000</td>\n",
       "      <td>0.000</td>\n",
       "      <td>213.512</td>\n",
       "    </tr>\n",
       "  </tbody>\n",
       "</table>\n",
       "</div>"
      ],
      "text/plain": [
       "   CUSTOMERID  GENDER  AGE  INCOME  EXPERIENCE SCORE LOYALTY GROUP  \\\n",
       "0       10001       0   64  133498                 5      enrolled   \n",
       "1       10002       0   42   94475                 9   notenrolled   \n",
       "2       10003       0   40   88610                 9      enrolled   \n",
       "3       10004       0   38   84313                 8      enrolled   \n",
       "4       10005       0   30   51498                 3   notenrolled   \n",
       "\n",
       "  ENROLLMENT DATE  HOUSEHOLD SIZE MARITAL STATUS   APPAREL  ELECTRONICS  \\\n",
       "0      06-03-2013               4         Single  4022.430     1601.315   \n",
       "1             NaN               6        Married  2312.509     2473.163   \n",
       "2      02-09-2010               5        Married  2887.382     5414.418   \n",
       "3      06-04-2015               1         Single  3637.213     1840.211   \n",
       "4             NaN               1         Single   213.512        0.000   \n",
       "\n",
       "      FOOD  HEALTH & BEAUTY  TOTAL SPENT  \n",
       "0   68.688         1134.337     6826.770  \n",
       "1  276.779            0.000     5062.451  \n",
       "2  260.640            0.000     8562.440  \n",
       "3   45.270            0.000     5522.694  \n",
       "4    0.000            0.000      213.512  "
      ]
     },
     "execution_count": 17,
     "metadata": {},
     "output_type": "execute_result"
    }
   ],
   "source": [
    "customer_all_view.head()"
   ]
  },
  {
   "cell_type": "markdown",
   "metadata": {},
   "source": [
    "# Classification "
   ]
  },
  {
   "cell_type": "markdown",
   "metadata": {},
   "source": [
    "We want to predict loyalty group as our target variable. From our data understanding and preparation we saw that the factors affecting loyalty are income, experience, age and total spent"
   ]
  },
  {
   "cell_type": "code",
   "execution_count": 18,
   "metadata": {},
   "outputs": [
    {
     "data": {
      "text/html": [
       "<div>\n",
       "<style scoped>\n",
       "    .dataframe tbody tr th:only-of-type {\n",
       "        vertical-align: middle;\n",
       "    }\n",
       "\n",
       "    .dataframe tbody tr th {\n",
       "        vertical-align: top;\n",
       "    }\n",
       "\n",
       "    .dataframe thead th {\n",
       "        text-align: right;\n",
       "    }\n",
       "</style>\n",
       "<table border=\"1\" class=\"dataframe\">\n",
       "  <thead>\n",
       "    <tr style=\"text-align: right;\">\n",
       "      <th></th>\n",
       "      <th>INCOME</th>\n",
       "      <th>AGE</th>\n",
       "      <th>EXPERIENCE SCORE</th>\n",
       "      <th>TOTAL SPENT</th>\n",
       "      <th>LOYALTY GROUP</th>\n",
       "    </tr>\n",
       "  </thead>\n",
       "  <tbody>\n",
       "    <tr>\n",
       "      <th>0</th>\n",
       "      <td>133498</td>\n",
       "      <td>64</td>\n",
       "      <td>5</td>\n",
       "      <td>6826.770</td>\n",
       "      <td>enrolled</td>\n",
       "    </tr>\n",
       "    <tr>\n",
       "      <th>1</th>\n",
       "      <td>94475</td>\n",
       "      <td>42</td>\n",
       "      <td>9</td>\n",
       "      <td>5062.451</td>\n",
       "      <td>notenrolled</td>\n",
       "    </tr>\n",
       "    <tr>\n",
       "      <th>2</th>\n",
       "      <td>88610</td>\n",
       "      <td>40</td>\n",
       "      <td>9</td>\n",
       "      <td>8562.440</td>\n",
       "      <td>enrolled</td>\n",
       "    </tr>\n",
       "    <tr>\n",
       "      <th>3</th>\n",
       "      <td>84313</td>\n",
       "      <td>38</td>\n",
       "      <td>8</td>\n",
       "      <td>5522.694</td>\n",
       "      <td>enrolled</td>\n",
       "    </tr>\n",
       "    <tr>\n",
       "      <th>4</th>\n",
       "      <td>51498</td>\n",
       "      <td>30</td>\n",
       "      <td>3</td>\n",
       "      <td>213.512</td>\n",
       "      <td>notenrolled</td>\n",
       "    </tr>\n",
       "  </tbody>\n",
       "</table>\n",
       "</div>"
      ],
      "text/plain": [
       "   INCOME  AGE  EXPERIENCE SCORE  TOTAL SPENT LOYALTY GROUP\n",
       "0  133498   64                 5     6826.770      enrolled\n",
       "1   94475   42                 9     5062.451   notenrolled\n",
       "2   88610   40                 9     8562.440      enrolled\n",
       "3   84313   38                 8     5522.694      enrolled\n",
       "4   51498   30                 3      213.512   notenrolled"
      ]
     },
     "execution_count": 18,
     "metadata": {},
     "output_type": "execute_result"
    }
   ],
   "source": [
    "# create a pandas dataframe with the most relevant features.\n",
    "DF_classification = customer_all_view[['INCOME', 'AGE', 'EXPERIENCE SCORE', 'TOTAL SPENT', 'LOYALTY GROUP']]\n",
    "DF_classification.head()\n"
   ]
  },
  {
   "cell_type": "code",
   "execution_count": 19,
   "metadata": {},
   "outputs": [
    {
     "data": {
      "text/html": [
       "<div>\n",
       "<style scoped>\n",
       "    .dataframe tbody tr th:only-of-type {\n",
       "        vertical-align: middle;\n",
       "    }\n",
       "\n",
       "    .dataframe tbody tr th {\n",
       "        vertical-align: top;\n",
       "    }\n",
       "\n",
       "    .dataframe thead th {\n",
       "        text-align: right;\n",
       "    }\n",
       "</style>\n",
       "<table border=\"1\" class=\"dataframe\">\n",
       "  <thead>\n",
       "    <tr style=\"text-align: right;\">\n",
       "      <th></th>\n",
       "      <th>LOYALTY GROUP</th>\n",
       "    </tr>\n",
       "  </thead>\n",
       "  <tbody>\n",
       "    <tr>\n",
       "      <th>0</th>\n",
       "      <td>enrolled</td>\n",
       "    </tr>\n",
       "    <tr>\n",
       "      <th>1</th>\n",
       "      <td>notenrolled</td>\n",
       "    </tr>\n",
       "    <tr>\n",
       "      <th>2</th>\n",
       "      <td>enrolled</td>\n",
       "    </tr>\n",
       "    <tr>\n",
       "      <th>3</th>\n",
       "      <td>enrolled</td>\n",
       "    </tr>\n",
       "    <tr>\n",
       "      <th>4</th>\n",
       "      <td>notenrolled</td>\n",
       "    </tr>\n",
       "  </tbody>\n",
       "</table>\n",
       "</div>"
      ],
      "text/plain": [
       "  LOYALTY GROUP\n",
       "0      enrolled\n",
       "1   notenrolled\n",
       "2      enrolled\n",
       "3      enrolled\n",
       "4   notenrolled"
      ]
     },
     "execution_count": 19,
     "metadata": {},
     "output_type": "execute_result"
    }
   ],
   "source": [
    "# separate the input features from the target feature and put the target feature in a dataframe\n",
    "target_feature = pd.DataFrame(DF_classification['LOYALTY GROUP'])\n",
    "target_feature.head()"
   ]
  },
  {
   "cell_type": "code",
   "execution_count": 20,
   "metadata": {},
   "outputs": [
    {
     "data": {
      "text/html": [
       "<div>\n",
       "<style scoped>\n",
       "    .dataframe tbody tr th:only-of-type {\n",
       "        vertical-align: middle;\n",
       "    }\n",
       "\n",
       "    .dataframe tbody tr th {\n",
       "        vertical-align: top;\n",
       "    }\n",
       "\n",
       "    .dataframe thead th {\n",
       "        text-align: right;\n",
       "    }\n",
       "</style>\n",
       "<table border=\"1\" class=\"dataframe\">\n",
       "  <thead>\n",
       "    <tr style=\"text-align: right;\">\n",
       "      <th></th>\n",
       "      <th>INCOME</th>\n",
       "      <th>AGE</th>\n",
       "      <th>EXPERIENCE SCORE</th>\n",
       "      <th>TOTAL SPENT</th>\n",
       "    </tr>\n",
       "  </thead>\n",
       "  <tbody>\n",
       "    <tr>\n",
       "      <th>0</th>\n",
       "      <td>133498</td>\n",
       "      <td>64</td>\n",
       "      <td>5</td>\n",
       "      <td>6826.770</td>\n",
       "    </tr>\n",
       "    <tr>\n",
       "      <th>1</th>\n",
       "      <td>94475</td>\n",
       "      <td>42</td>\n",
       "      <td>9</td>\n",
       "      <td>5062.451</td>\n",
       "    </tr>\n",
       "    <tr>\n",
       "      <th>2</th>\n",
       "      <td>88610</td>\n",
       "      <td>40</td>\n",
       "      <td>9</td>\n",
       "      <td>8562.440</td>\n",
       "    </tr>\n",
       "    <tr>\n",
       "      <th>3</th>\n",
       "      <td>84313</td>\n",
       "      <td>38</td>\n",
       "      <td>8</td>\n",
       "      <td>5522.694</td>\n",
       "    </tr>\n",
       "    <tr>\n",
       "      <th>4</th>\n",
       "      <td>51498</td>\n",
       "      <td>30</td>\n",
       "      <td>3</td>\n",
       "      <td>213.512</td>\n",
       "    </tr>\n",
       "  </tbody>\n",
       "</table>\n",
       "</div>"
      ],
      "text/plain": [
       "   INCOME  AGE  EXPERIENCE SCORE  TOTAL SPENT\n",
       "0  133498   64                 5     6826.770\n",
       "1   94475   42                 9     5062.451\n",
       "2   88610   40                 9     8562.440\n",
       "3   84313   38                 8     5522.694\n",
       "4   51498   30                 3      213.512"
      ]
     },
     "execution_count": 20,
     "metadata": {},
     "output_type": "execute_result"
    }
   ],
   "source": [
    "# drop the loyalty group column from the dataframe with input features\n",
    "DF_classification = DF_classification.drop(['LOYALTY GROUP'],axis = 1)\n",
    "DF_classification.head()"
   ]
  },
  {
   "cell_type": "code",
   "execution_count": 21,
   "metadata": {},
   "outputs": [],
   "source": [
    "# DF_classification is ready for scaling we'll use the min-max scaling approach\n",
    "# import the preprocessing library\n",
    "from sklearn import preprocessing"
   ]
  },
  {
   "cell_type": "code",
   "execution_count": 22,
   "metadata": {},
   "outputs": [
    {
     "data": {
      "text/plain": [
       "array(['INCOME', 'AGE', 'EXPERIENCE SCORE', 'TOTAL SPENT'], dtype=object)"
      ]
     },
     "execution_count": 22,
     "metadata": {},
     "output_type": "execute_result"
    }
   ],
   "source": [
    "'''\n",
    "save the column names of the DF_classification dataframe in a list before scaling. We do this because after \n",
    "applying the preprocessor to a pandas dataframe the result is a numpy array and the column names are lost. To \n",
    "reconstruct the dataframe after scaling you will need the column names.\n",
    "'''\n",
    "DF_classification_column_names = DF_classification.columns.values\n",
    "DF_classification_column_names"
   ]
  },
  {
   "cell_type": "code",
   "execution_count": 23,
   "metadata": {},
   "outputs": [
    {
     "data": {
      "text/plain": [
       "array([[0.8728178 , 0.63888889, 0.44444444, 0.44653193],\n",
       "       [0.57204628, 0.33333333, 0.88888889, 0.33079041],\n",
       "       [0.52684153, 0.30555556, 0.88888889, 0.56039405],\n",
       "       ...,\n",
       "       [0.59422859, 0.33333333, 0.77777778, 0.40879128],\n",
       "       [0.1092005 , 0.05555556, 0.        , 0.        ],\n",
       "       [0.4228205 , 0.22222222, 0.88888889, 0.27303383]])"
      ]
     },
     "execution_count": 23,
     "metadata": {},
     "output_type": "execute_result"
    }
   ],
   "source": [
    "DF_classification = preprocessing.minmax_scale(DF_classification)\n",
    "DF_classification"
   ]
  },
  {
   "cell_type": "code",
   "execution_count": 24,
   "metadata": {},
   "outputs": [
    {
     "data": {
      "text/html": [
       "<div>\n",
       "<style scoped>\n",
       "    .dataframe tbody tr th:only-of-type {\n",
       "        vertical-align: middle;\n",
       "    }\n",
       "\n",
       "    .dataframe tbody tr th {\n",
       "        vertical-align: top;\n",
       "    }\n",
       "\n",
       "    .dataframe thead th {\n",
       "        text-align: right;\n",
       "    }\n",
       "</style>\n",
       "<table border=\"1\" class=\"dataframe\">\n",
       "  <thead>\n",
       "    <tr style=\"text-align: right;\">\n",
       "      <th></th>\n",
       "      <th>INCOME</th>\n",
       "      <th>AGE</th>\n",
       "      <th>EXPERIENCE SCORE</th>\n",
       "      <th>TOTAL SPENT</th>\n",
       "    </tr>\n",
       "  </thead>\n",
       "  <tbody>\n",
       "    <tr>\n",
       "      <th>100</th>\n",
       "      <td>0.033227</td>\n",
       "      <td>0.027778</td>\n",
       "      <td>0.888889</td>\n",
       "      <td>0.004519</td>\n",
       "    </tr>\n",
       "    <tr>\n",
       "      <th>101</th>\n",
       "      <td>0.127460</td>\n",
       "      <td>0.083333</td>\n",
       "      <td>0.666667</td>\n",
       "      <td>0.206514</td>\n",
       "    </tr>\n",
       "    <tr>\n",
       "      <th>102</th>\n",
       "      <td>0.244499</td>\n",
       "      <td>0.166667</td>\n",
       "      <td>0.666667</td>\n",
       "      <td>0.407482</td>\n",
       "    </tr>\n",
       "    <tr>\n",
       "      <th>103</th>\n",
       "      <td>0.024510</td>\n",
       "      <td>0.013889</td>\n",
       "      <td>1.000000</td>\n",
       "      <td>0.049162</td>\n",
       "    </tr>\n",
       "    <tr>\n",
       "      <th>104</th>\n",
       "      <td>0.357884</td>\n",
       "      <td>0.208333</td>\n",
       "      <td>0.777778</td>\n",
       "      <td>0.358286</td>\n",
       "    </tr>\n",
       "    <tr>\n",
       "      <th>105</th>\n",
       "      <td>0.629175</td>\n",
       "      <td>0.361111</td>\n",
       "      <td>0.444444</td>\n",
       "      <td>0.659597</td>\n",
       "    </tr>\n",
       "    <tr>\n",
       "      <th>106</th>\n",
       "      <td>0.758145</td>\n",
       "      <td>0.472222</td>\n",
       "      <td>0.666667</td>\n",
       "      <td>0.597527</td>\n",
       "    </tr>\n",
       "    <tr>\n",
       "      <th>107</th>\n",
       "      <td>0.180418</td>\n",
       "      <td>0.125000</td>\n",
       "      <td>0.777778</td>\n",
       "      <td>0.057267</td>\n",
       "    </tr>\n",
       "    <tr>\n",
       "      <th>108</th>\n",
       "      <td>0.441103</td>\n",
       "      <td>0.250000</td>\n",
       "      <td>0.555556</td>\n",
       "      <td>0.496993</td>\n",
       "    </tr>\n",
       "    <tr>\n",
       "      <th>109</th>\n",
       "      <td>0.245416</td>\n",
       "      <td>0.166667</td>\n",
       "      <td>0.000000</td>\n",
       "      <td>0.188169</td>\n",
       "    </tr>\n",
       "  </tbody>\n",
       "</table>\n",
       "</div>"
      ],
      "text/plain": [
       "       INCOME       AGE  EXPERIENCE SCORE  TOTAL SPENT\n",
       "100  0.033227  0.027778          0.888889     0.004519\n",
       "101  0.127460  0.083333          0.666667     0.206514\n",
       "102  0.244499  0.166667          0.666667     0.407482\n",
       "103  0.024510  0.013889          1.000000     0.049162\n",
       "104  0.357884  0.208333          0.777778     0.358286\n",
       "105  0.629175  0.361111          0.444444     0.659597\n",
       "106  0.758145  0.472222          0.666667     0.597527\n",
       "107  0.180418  0.125000          0.777778     0.057267\n",
       "108  0.441103  0.250000          0.555556     0.496993\n",
       "109  0.245416  0.166667          0.000000     0.188169"
      ]
     },
     "execution_count": 24,
     "metadata": {},
     "output_type": "execute_result"
    }
   ],
   "source": [
    "# after scaling we can see that all values are between 0 and 1 meaning no value will dominate the others.\n",
    "DF_classification = pd.DataFrame(DF_classification, columns = DF_classification_column_names)\n",
    "DF_classification[100:110]"
   ]
  },
  {
   "cell_type": "code",
   "execution_count": 25,
   "metadata": {},
   "outputs": [
    {
     "data": {
      "text/html": [
       "<div>\n",
       "<style scoped>\n",
       "    .dataframe tbody tr th:only-of-type {\n",
       "        vertical-align: middle;\n",
       "    }\n",
       "\n",
       "    .dataframe tbody tr th {\n",
       "        vertical-align: top;\n",
       "    }\n",
       "\n",
       "    .dataframe thead th {\n",
       "        text-align: right;\n",
       "    }\n",
       "</style>\n",
       "<table border=\"1\" class=\"dataframe\">\n",
       "  <thead>\n",
       "    <tr style=\"text-align: right;\">\n",
       "      <th></th>\n",
       "      <th>INCOME</th>\n",
       "      <th>AGE</th>\n",
       "      <th>EXPERIENCE SCORE</th>\n",
       "      <th>TOTAL SPENT</th>\n",
       "      <th>LOYALTY GROUP</th>\n",
       "    </tr>\n",
       "  </thead>\n",
       "  <tbody>\n",
       "    <tr>\n",
       "      <th>0</th>\n",
       "      <td>0.872818</td>\n",
       "      <td>0.638889</td>\n",
       "      <td>0.444444</td>\n",
       "      <td>0.446532</td>\n",
       "      <td>enrolled</td>\n",
       "    </tr>\n",
       "    <tr>\n",
       "      <th>1</th>\n",
       "      <td>0.572046</td>\n",
       "      <td>0.333333</td>\n",
       "      <td>0.888889</td>\n",
       "      <td>0.330790</td>\n",
       "      <td>notenrolled</td>\n",
       "    </tr>\n",
       "    <tr>\n",
       "      <th>2</th>\n",
       "      <td>0.526842</td>\n",
       "      <td>0.305556</td>\n",
       "      <td>0.888889</td>\n",
       "      <td>0.560394</td>\n",
       "      <td>enrolled</td>\n",
       "    </tr>\n",
       "    <tr>\n",
       "      <th>3</th>\n",
       "      <td>0.493722</td>\n",
       "      <td>0.277778</td>\n",
       "      <td>0.777778</td>\n",
       "      <td>0.360983</td>\n",
       "      <td>enrolled</td>\n",
       "    </tr>\n",
       "    <tr>\n",
       "      <th>4</th>\n",
       "      <td>0.240799</td>\n",
       "      <td>0.166667</td>\n",
       "      <td>0.222222</td>\n",
       "      <td>0.012694</td>\n",
       "      <td>notenrolled</td>\n",
       "    </tr>\n",
       "  </tbody>\n",
       "</table>\n",
       "</div>"
      ],
      "text/plain": [
       "     INCOME       AGE  EXPERIENCE SCORE  TOTAL SPENT LOYALTY GROUP\n",
       "0  0.872818  0.638889          0.444444     0.446532      enrolled\n",
       "1  0.572046  0.333333          0.888889     0.330790   notenrolled\n",
       "2  0.526842  0.305556          0.888889     0.560394      enrolled\n",
       "3  0.493722  0.277778          0.777778     0.360983      enrolled\n",
       "4  0.240799  0.166667          0.222222     0.012694   notenrolled"
      ]
     },
     "execution_count": 25,
     "metadata": {},
     "output_type": "execute_result"
    }
   ],
   "source": [
    "# then now you can merge the scaled data and the target feature which is loyalty\n",
    "DF_classification = pd.concat([DF_classification, target_feature],axis = 1)\n",
    "DF_classification.head()"
   ]
  },
  {
   "cell_type": "markdown",
   "metadata": {},
   "source": [
    "## Partitioning data into training and testing splits"
   ]
  },
  {
   "cell_type": "code",
   "execution_count": 26,
   "metadata": {},
   "outputs": [],
   "source": [
    "# import train test split\n",
    "from sklearn.model_selection import train_test_split"
   ]
  },
  {
   "cell_type": "code",
   "execution_count": 27,
   "metadata": {},
   "outputs": [],
   "source": [
    "'''\n",
    "run the following code to generate training and testing datasets. Training will be 80% and testing 20%. This code \n",
    "will divide the dataframe into 2 mutually exclusive data frames, X_train and X_test. It also separates the target \n",
    "feature into 2 dataframes Y_train and Y_test\n",
    "'''\n",
    "X_train,X_test,Y_train,Y_test = \\\n",
    "train_test_split(DF_classification[['EXPERIENCE SCORE','TOTAL SPENT','INCOME']],DF_classification['LOYALTY GROUP'], test_size=0.2,random_state=42)\n",
    "\n",
    "# test_size = 0.2 i.e. 20%  random state = n, shuffle n times, n should be 0 <= n <= 42."
   ]
  },
  {
   "cell_type": "markdown",
   "metadata": {},
   "source": [
    "We removed AGE from the list of features because it is highly correlated to income. \n",
    "\n",
    "random_state is a pseudo random number generator used for random sampling when splitting the input data. If this number is set then each time you run you get the same training and testing data splits. If it's not specified you get different data sets each time. "
   ]
  },
  {
   "cell_type": "code",
   "execution_count": 28,
   "metadata": {},
   "outputs": [
    {
     "data": {
      "text/html": [
       "<div>\n",
       "<style scoped>\n",
       "    .dataframe tbody tr th:only-of-type {\n",
       "        vertical-align: middle;\n",
       "    }\n",
       "\n",
       "    .dataframe tbody tr th {\n",
       "        vertical-align: top;\n",
       "    }\n",
       "\n",
       "    .dataframe thead th {\n",
       "        text-align: right;\n",
       "    }\n",
       "</style>\n",
       "<table border=\"1\" class=\"dataframe\">\n",
       "  <thead>\n",
       "    <tr style=\"text-align: right;\">\n",
       "      <th></th>\n",
       "      <th>EXPERIENCE SCORE</th>\n",
       "      <th>TOTAL SPENT</th>\n",
       "      <th>INCOME</th>\n",
       "    </tr>\n",
       "  </thead>\n",
       "  <tbody>\n",
       "    <tr>\n",
       "      <th>249</th>\n",
       "      <td>0.888889</td>\n",
       "      <td>0.070731</td>\n",
       "      <td>0.027007</td>\n",
       "    </tr>\n",
       "    <tr>\n",
       "      <th>433</th>\n",
       "      <td>0.888889</td>\n",
       "      <td>0.167675</td>\n",
       "      <td>0.177782</td>\n",
       "    </tr>\n",
       "    <tr>\n",
       "      <th>19</th>\n",
       "      <td>1.000000</td>\n",
       "      <td>0.281217</td>\n",
       "      <td>0.306051</td>\n",
       "    </tr>\n",
       "    <tr>\n",
       "      <th>322</th>\n",
       "      <td>0.666667</td>\n",
       "      <td>0.172407</td>\n",
       "      <td>0.131737</td>\n",
       "    </tr>\n",
       "    <tr>\n",
       "      <th>332</th>\n",
       "      <td>0.777778</td>\n",
       "      <td>0.075750</td>\n",
       "      <td>0.135545</td>\n",
       "    </tr>\n",
       "  </tbody>\n",
       "</table>\n",
       "</div>"
      ],
      "text/plain": [
       "     EXPERIENCE SCORE  TOTAL SPENT    INCOME\n",
       "249          0.888889     0.070731  0.027007\n",
       "433          0.888889     0.167675  0.177782\n",
       "19           1.000000     0.281217  0.306051\n",
       "322          0.666667     0.172407  0.131737\n",
       "332          0.777778     0.075750  0.135545"
      ]
     },
     "execution_count": 28,
     "metadata": {},
     "output_type": "execute_result"
    }
   ],
   "source": [
    "X_train.head()"
   ]
  },
  {
   "cell_type": "code",
   "execution_count": 29,
   "metadata": {},
   "outputs": [
    {
     "data": {
      "text/plain": [
       "249       enrolled\n",
       "433       enrolled\n",
       "19     notenrolled\n",
       "322       enrolled\n",
       "332       enrolled\n",
       "Name: LOYALTY GROUP, dtype: object"
      ]
     },
     "execution_count": 29,
     "metadata": {},
     "output_type": "execute_result"
    }
   ],
   "source": [
    "Y_train.head()"
   ]
  },
  {
   "cell_type": "code",
   "execution_count": 30,
   "metadata": {},
   "outputs": [
    {
     "data": {
      "text/html": [
       "<div>\n",
       "<style scoped>\n",
       "    .dataframe tbody tr th:only-of-type {\n",
       "        vertical-align: middle;\n",
       "    }\n",
       "\n",
       "    .dataframe tbody tr th {\n",
       "        vertical-align: top;\n",
       "    }\n",
       "\n",
       "    .dataframe thead th {\n",
       "        text-align: right;\n",
       "    }\n",
       "</style>\n",
       "<table border=\"1\" class=\"dataframe\">\n",
       "  <thead>\n",
       "    <tr style=\"text-align: right;\">\n",
       "      <th></th>\n",
       "      <th>EXPERIENCE SCORE</th>\n",
       "      <th>TOTAL SPENT</th>\n",
       "      <th>INCOME</th>\n",
       "    </tr>\n",
       "  </thead>\n",
       "  <tbody>\n",
       "    <tr>\n",
       "      <th>361</th>\n",
       "      <td>1.000000</td>\n",
       "      <td>0.474607</td>\n",
       "      <td>0.564878</td>\n",
       "    </tr>\n",
       "    <tr>\n",
       "      <th>73</th>\n",
       "      <td>0.777778</td>\n",
       "      <td>0.403350</td>\n",
       "      <td>0.355927</td>\n",
       "    </tr>\n",
       "    <tr>\n",
       "      <th>374</th>\n",
       "      <td>0.888889</td>\n",
       "      <td>0.336084</td>\n",
       "      <td>0.377385</td>\n",
       "    </tr>\n",
       "    <tr>\n",
       "      <th>155</th>\n",
       "      <td>0.555556</td>\n",
       "      <td>0.549815</td>\n",
       "      <td>0.633221</td>\n",
       "    </tr>\n",
       "    <tr>\n",
       "      <th>104</th>\n",
       "      <td>0.777778</td>\n",
       "      <td>0.358286</td>\n",
       "      <td>0.357884</td>\n",
       "    </tr>\n",
       "  </tbody>\n",
       "</table>\n",
       "</div>"
      ],
      "text/plain": [
       "     EXPERIENCE SCORE  TOTAL SPENT    INCOME\n",
       "361          1.000000     0.474607  0.564878\n",
       "73           0.777778     0.403350  0.355927\n",
       "374          0.888889     0.336084  0.377385\n",
       "155          0.555556     0.549815  0.633221\n",
       "104          0.777778     0.358286  0.357884"
      ]
     },
     "execution_count": 30,
     "metadata": {},
     "output_type": "execute_result"
    }
   ],
   "source": [
    "X_test.head()"
   ]
  },
  {
   "cell_type": "code",
   "execution_count": 31,
   "metadata": {},
   "outputs": [
    {
     "data": {
      "text/plain": [
       "361       enrolled\n",
       "73        enrolled\n",
       "374    notenrolled\n",
       "155    notenrolled\n",
       "104       enrolled\n",
       "Name: LOYALTY GROUP, dtype: object"
      ]
     },
     "execution_count": 31,
     "metadata": {},
     "output_type": "execute_result"
    }
   ],
   "source": [
    "Y_test.head()"
   ]
  },
  {
   "cell_type": "code",
   "execution_count": 32,
   "metadata": {},
   "outputs": [
    {
     "data": {
      "text/plain": [
       "Text(0, 0.5, 'Income')"
      ]
     },
     "execution_count": 32,
     "metadata": {},
     "output_type": "execute_result"
    },
    {
     "data": {
      "image/png": "[encoded data removed]",
      "text/plain": [
       "<Figure size 432x288 with 1 Axes>"
      ]
     },
     "metadata": {
      "needs_background": "light"
     },
     "output_type": "display_data"
    }
   ],
   "source": [
    "# verify the relationship between age and income:\n",
    "import matplotlib.pyplot as plt\n",
    "plt.scatter(customer_all_view['AGE'], customer_all_view['INCOME'])\n",
    "plt.xlabel('Age')\n",
    "plt.ylabel('Income')"
   ]
  },
  {
   "cell_type": "markdown",
   "metadata": {},
   "source": [
    "Highly correlated features do not improve the model performance because one variable is redundant with the other one, so removing it does not affect the classification and instead increases speed of the algorithm."
   ]
  },
  {
   "cell_type": "markdown",
   "metadata": {},
   "source": [
    "### Training and testing using KNN and Decision Trees"
   ]
  },
  {
   "cell_type": "code",
   "execution_count": 33,
   "metadata": {},
   "outputs": [],
   "source": [
    "from sklearn.neighbors import KNeighborsClassifier"
   ]
  },
  {
   "cell_type": "code",
   "execution_count": 34,
   "metadata": {},
   "outputs": [],
   "source": [
    "# create an instance of the KNN classifier. As an initial setting we'll use k = 8. We'll get optimal k later using cross-validation\n",
    "clf_KNN = KNeighborsClassifier(n_neighbors = 8)"
   ]
  },
  {
   "cell_type": "code",
   "execution_count": 35,
   "metadata": {},
   "outputs": [
    {
     "data": {
      "text/plain": [
       "KNeighborsClassifier(algorithm='auto', leaf_size=30, metric='minkowski',\n",
       "                     metric_params=None, n_jobs=None, n_neighbors=8, p=2,\n",
       "                     weights='uniform')"
      ]
     },
     "execution_count": 35,
     "metadata": {},
     "output_type": "execute_result"
    }
   ],
   "source": [
    "clf_KNN"
   ]
  },
  {
   "cell_type": "markdown",
   "metadata": {},
   "source": [
    "Algorithm: This is the method or the algorithm that is used to calculate the nearest neighbors. It is set to auto, which means that the KNN attempts to decide the most appropriate algorithm based on the values that are passed to the fit method. The fit method is explained soon.\n",
    "\n",
    "\n",
    "Leaf size: This parameter specifies the number of points that are used to calculate the nearest neighbor points. It can significantly impact the speed of the calculations and the memory that is required.\n",
    "\n",
    "\n",
    "Metric: The distance metric to use for the tree. The default metric is minkowski, and with p=2 is equivalent to the standard Euclidean metric.\n",
    "\n",
    "\n",
    "Weights: The weight function that is used in prediction. Uniform weights mean that all points in each neighborhood are weighted equally.\n",
    "\n",
    "\n",
    "For more information about the parameters, see http://scikit-learn.org/stable/modules/generated/sklearn.neighbors.KNeighborsClassifier.html."
   ]
  },
  {
   "cell_type": "code",
   "execution_count": 96,
   "metadata": {},
   "outputs": [
    {
     "data": {
      "text/plain": [
       "KNeighborsClassifier(algorithm='auto', leaf_size=30, metric='minkowski',\n",
       "                     metric_params=None, n_jobs=None, n_neighbors=8, p=2,\n",
       "                     weights='uniform')"
      ]
     },
     "execution_count": 96,
     "metadata": {},
     "output_type": "execute_result"
    }
   ],
   "source": [
    "clf_KNN.fit(X_train, np.ravel(Y_train))\n",
    "# np.ravel = returns a contiguous flattened array"
   ]
  },
  {
   "cell_type": "code",
   "execution_count": 37,
   "metadata": {},
   "outputs": [],
   "source": [
    "# to test the model, first use the model to predict the labels of the testing feature set\n",
    "predicted = clf_KNN.predict(X_test)"
   ]
  },
  {
   "cell_type": "code",
   "execution_count": 38,
   "metadata": {},
   "outputs": [
    {
     "data": {
      "text/plain": [
       "array(['enrolled', 'enrolled', 'enrolled', 'enrolled', 'enrolled',\n",
       "       'notenrolled', 'notenrolled', 'notenrolled', 'enrolled',\n",
       "       'enrolled', 'notenrolled', 'enrolled', 'notenrolled', 'enrolled',\n",
       "       'notenrolled', 'enrolled', 'enrolled', 'notenrolled', 'enrolled',\n",
       "       'notenrolled', 'enrolled', 'enrolled', 'enrolled', 'enrolled',\n",
       "       'notenrolled', 'notenrolled', 'enrolled', 'enrolled', 'enrolled',\n",
       "       'notenrolled', 'enrolled', 'enrolled', 'enrolled', 'enrolled',\n",
       "       'enrolled', 'notenrolled', 'notenrolled', 'enrolled', 'enrolled',\n",
       "       'enrolled', 'enrolled', 'enrolled', 'notenrolled', 'enrolled',\n",
       "       'enrolled', 'enrolled', 'enrolled', 'notenrolled', 'enrolled',\n",
       "       'enrolled', 'notenrolled', 'notenrolled', 'notenrolled',\n",
       "       'enrolled', 'enrolled', 'enrolled', 'notenrolled', 'enrolled',\n",
       "       'notenrolled', 'enrolled', 'notenrolled', 'notenrolled',\n",
       "       'enrolled', 'enrolled', 'enrolled', 'notenrolled', 'enrolled',\n",
       "       'notenrolled', 'notenrolled', 'enrolled', 'notenrolled',\n",
       "       'enrolled', 'notenrolled', 'enrolled', 'notenrolled', 'enrolled',\n",
       "       'enrolled', 'enrolled', 'notenrolled', 'enrolled', 'notenrolled',\n",
       "       'enrolled', 'enrolled', 'enrolled', 'notenrolled', 'enrolled',\n",
       "       'enrolled', 'enrolled', 'notenrolled', 'enrolled', 'enrolled',\n",
       "       'enrolled', 'enrolled', 'enrolled', 'notenrolled', 'notenrolled',\n",
       "       'enrolled', 'enrolled', 'notenrolled', 'notenrolled'], dtype=object)"
      ]
     },
     "execution_count": 38,
     "metadata": {},
     "output_type": "execute_result"
    }
   ],
   "source": [
    "predicted"
   ]
  },
  {
   "cell_type": "code",
   "execution_count": 39,
   "metadata": {},
   "outputs": [],
   "source": [
    "# compare the predicted to the actual values\n",
    "from sklearn import metrics"
   ]
  },
  {
   "cell_type": "code",
   "execution_count": 40,
   "metadata": {},
   "outputs": [
    {
     "name": "stdout",
     "output_type": "stream",
     "text": [
      "accuracy = 79.0%\n",
      "              precision    recall  f1-score   support\n",
      "\n",
      "    enrolled       0.73      0.92      0.82        51\n",
      " notenrolled       0.89      0.65      0.75        49\n",
      "\n",
      "    accuracy                           0.79       100\n",
      "   macro avg       0.81      0.79      0.79       100\n",
      "weighted avg       0.81      0.79      0.79       100\n",
      "\n"
     ]
    }
   ],
   "source": [
    "# We're using Y_test because Y is the target variable which is what we're predicting hence we compare results to what exists.\n",
    "acc = metrics.accuracy_score(Y_test, predicted)\n",
    "print('accuracy = ' + str(acc*100) + \"%\")\n",
    "print(metrics.classification_report(Y_test,predicted))"
   ]
  },
  {
   "cell_type": "markdown",
   "metadata": {},
   "source": [
    "precision = when a model predicts yes how often is it correct?\n",
    "\n",
    "recall/sensitivity = how many times the model correctly predicts yes. "
   ]
  },
  {
   "cell_type": "markdown",
   "metadata": {},
   "source": [
    "**The output shows the following information:**\n",
    "An overall accuracy of 79% means that the model was able to predict correctly the labels of 79% of the input testing data set.\n",
    "\n",
    "\n",
    "Each class label (enrolled or not enrolled) is treated separately as follows: (Hint: Remember the confusion matrix.)\n",
    "\n",
    "\n",
    "Enrolled:\n",
    "\n",
    "It has a precision of 73%, which means that the whenever the model predicts or outputs “enrolled”, you can trust \n",
    "it by 73%.\n",
    "\n",
    "It has a recall of 92%, which means that whenever the true label of an unknown input sample is “enrolled”, the model can predict it correctly by 92%.\n",
    "\n",
    "It has an f1-score of 82%, which is a weighted sum of the precision and recall.\n",
    "\n",
    "\n",
    "Not enrolled:\n",
    "\n",
    "It has a precision of 89%, which means that the whenever the model predicts “not enrolled”, you can trust it by 89%.\n",
    "\n",
    "It has a recall of 65%, which means that whenever the true label of an unknown input sample is “not enrolled”, the model can predict it correctly by 65%.\n",
    "\n",
    "It has an f1-score of 75%, which is a weighted sum of the precision and recall.\n",
    "\n",
    "Support is the actual number of class labels."
   ]
  },
  {
   "cell_type": "markdown",
   "metadata": {},
   "source": [
    "### Training a Decision Tree Classifier"
   ]
  },
  {
   "cell_type": "code",
   "execution_count": 41,
   "metadata": {},
   "outputs": [],
   "source": [
    "# Import the decision trees algorithm library\n",
    "from sklearn.tree import DecisionTreeClassifier"
   ]
  },
  {
   "cell_type": "code",
   "execution_count": 42,
   "metadata": {},
   "outputs": [
    {
     "data": {
      "text/plain": [
       "DecisionTreeClassifier(ccp_alpha=0.0, class_weight=None, criterion='entropy',\n",
       "                       max_depth=None, max_features=None, max_leaf_nodes=None,\n",
       "                       min_impurity_decrease=0.0, min_impurity_split=None,\n",
       "                       min_samples_leaf=1, min_samples_split=2,\n",
       "                       min_weight_fraction_leaf=0.0, presort='deprecated',\n",
       "                       random_state=0, splitter='best')"
      ]
     },
     "execution_count": 42,
     "metadata": {},
     "output_type": "execute_result"
    }
   ],
   "source": [
    "# Create an instance of the algorithm with criterion = entropy\n",
    "# Entropy is defined as a measure to define a degree of impurity in a system. If the sample is homogeneous, then the entropy is zero\n",
    "clf_Tree=DecisionTreeClassifier(criterion=\"entropy\", random_state = 0)\n",
    "clf_Tree"
   ]
  },
  {
   "cell_type": "markdown",
   "metadata": {},
   "source": [
    "We set the criterion = “entropy”. Entropy is the algorithm that the decision trees use to split nodes. For more information about the other model parameters, see http://scikit-learn.org/stable/modules/generated/sklearn.tree.DecisionTreeClassifier.html."
   ]
  },
  {
   "cell_type": "code",
   "execution_count": 43,
   "metadata": {},
   "outputs": [
    {
     "name": "stdout",
     "output_type": "stream",
     "text": [
      "accuracy = 75.0%\n",
      "              precision    recall  f1-score   support\n",
      "\n",
      "    enrolled       0.74      0.78      0.76        51\n",
      " notenrolled       0.76      0.71      0.74        49\n",
      "\n",
      "    accuracy                           0.75       100\n",
      "   macro avg       0.75      0.75      0.75       100\n",
      "weighted avg       0.75      0.75      0.75       100\n",
      "\n"
     ]
    }
   ],
   "source": [
    "# train and test the tree model\n",
    "clf_Tree.fit(X_train, Y_train)\n",
    "predicted = clf_Tree .predict(X_test)\n",
    "acc = metrics.accuracy_score(Y_test,predicted)\n",
    "print ('accuracy = '+str(acc*100)+'%')\n",
    "print (metrics.classification_report(Y_test,predicted))"
   ]
  },
  {
   "cell_type": "markdown",
   "metadata": {},
   "source": [
    "As you can see, the accuracy of the decision tree model is less than that of the KNN model. However, do not rule out decision trees until you have fully tested both models with different testing splits, and then compare both models’ performance."
   ]
  },
  {
   "cell_type": "markdown",
   "metadata": {},
   "source": [
    "**Question: Can you analyze the output metrics of the decision tree's model?**\n",
    "\n",
    "The decision tree model has an accuracy of 75%. \n",
    "\n",
    "**Enrolled:** When the model predicts 'enrolled' it can be trusted by 74%. And out of all predictions that said 'enrolled', 78% were correct.\n",
    "\n",
    "**Not Enrolled:** When the model predicts 'not enrolled', it can be trusted 76%, and out of all the 'not enrolled' predictions, 71% were correct."
   ]
  },
  {
   "cell_type": "code",
   "execution_count": 44,
   "metadata": {},
   "outputs": [
    {
     "data": {
      "text/plain": [
       "array([0.26796289, 0.39545388, 0.33658323])"
      ]
     },
     "execution_count": 44,
     "metadata": {},
     "output_type": "execute_result"
    }
   ],
   "source": [
    "'''\n",
    "Decision trees have an advantage over KNN in that they provide numerical values for the feature importance. \n",
    "You can use this feature to provide Retailer X with the most important factors that affect loyalty program \n",
    "participation among customers. Use the feature_importances_ method to get the feature importance The higher \n",
    "the value the more important the feature. Our features were: ['EXPERIENCE SCORE','TOTAL SPENT','INCOME']\n",
    "'''\n",
    "clf_Tree.feature_importances_"
   ]
  },
  {
   "cell_type": "markdown",
   "metadata": {},
   "source": [
    "We create one train test split for each classifier to assess the model performance, which means that we tested only model performance on one unseen data set. To obtain an insight about how the model generalizes to more independent data sets, use cross-validation.\n",
    "\n",
    "In the KNN model, we assumed K=8 even though this value might not be the optimum one. To obtain an optimum value, iterate over a defined set of values of K, such as K=1,2,3,4….10 and get the optimum value."
   ]
  },
  {
   "cell_type": "markdown",
   "metadata": {},
   "source": [
    "### Training and testing the model using k-fold cross-validation"
   ]
  },
  {
   "cell_type": "code",
   "execution_count": 45,
   "metadata": {},
   "outputs": [],
   "source": [
    "# Import the KFold library\n",
    "from sklearn.model_selection import KFold"
   ]
  },
  {
   "cell_type": "code",
   "execution_count": 46,
   "metadata": {},
   "outputs": [],
   "source": [
    "# Define a new generic training and testing function with accuracy as the performance metric\n",
    "def Training_Testing_Accuracy_Only(model,train_data,train_labels,test_data,test_labels):\n",
    "    model.fit(train_data,train_labels)\n",
    "    predicted = model.predict(test_data)\n",
    "    acc = metrics.accuracy_score(test_labels,predicted)\n",
    "    print ('accuracy = '+str(acc*100)+'%')\n",
    "    return(acc)"
   ]
  },
  {
   "cell_type": "markdown",
   "metadata": {},
   "source": [
    "The code performs the following functions:\n",
    "\n",
    "It has five arguments as inputs: The classifier model (model), the training data (train_data), the training labels (train_labels), testing data (test_data), and testing labels (test_labels).\n",
    "\n",
    "It trains the model by using the function “.fit()”.\n",
    "\n",
    "It predicts the class labels of the testing feature set and saves them to a list called “predicted”.\n",
    "\n",
    "It compares the predicted output with the actual labels (“test_labels”) and calculates the accuracy (“acc”) by using a function that is called “metrics.accuracy_score()”. Then, it prints the output and returns the accuracy."
   ]
  },
  {
   "cell_type": "code",
   "execution_count": 47,
   "metadata": {},
   "outputs": [],
   "source": [
    "# Set the number of folds Each iteration has 450 training samples and 50 testing samples\n",
    "kf = KFold(n_splits=10)"
   ]
  },
  {
   "cell_type": "markdown",
   "metadata": {},
   "source": [
    "## Training and testing the decision tree model by using 10-fold cross-validation"
   ]
  },
  {
   "cell_type": "code",
   "execution_count": 48,
   "metadata": {},
   "outputs": [],
   "source": [
    "# Declare an empty list to store the accuracy in each iteration and declare a new decision Tree classifier\n",
    "clf_Tree=DecisionTreeClassifier(criterion='entropy')\n",
    "accuracy_list=[]"
   ]
  },
  {
   "cell_type": "code",
   "execution_count": 49,
   "metadata": {},
   "outputs": [
    {
     "name": "stdout",
     "output_type": "stream",
     "text": [
      "accuracy = 76.0%\n",
      "accuracy = 78.0%\n",
      "accuracy = 74.0%\n",
      "accuracy = 72.0%\n",
      "accuracy = 70.0%\n",
      "accuracy = 82.0%\n",
      "accuracy = 70.0%\n",
      "accuracy = 74.0%\n",
      "accuracy = 72.0%\n",
      "accuracy = 78.0%\n",
      "overall_accuracy is % 74.60000000000001\n"
     ]
    }
   ],
   "source": [
    "# Train and test the decision tree model for each fold and get the overall accuracy\n",
    "for train_index, test_index in kf.split(DF_classification[['EXPERIENCE SCORE','TOTAL SPENT','INCOME']]):\n",
    "    X=DF_classification[['EXPERIENCE SCORE','TOTAL SPENT','INCOME']]\n",
    "    Y=DF_classification['LOYALTY GROUP']\n",
    "    X_train,X_test=X.iloc[train_index], X.iloc[test_index]\n",
    "    Y_train,Y_test=Y.iloc[train_index], Y.iloc[test_index]   \n",
    "    accuracy=Training_Testing_Accuracy_Only(clf_Tree,X_train,Y_train,X_test,Y_test)\n",
    "    accuracy_list.append(accuracy) \n",
    "print(\"overall_accuracy is %\",100 * sum(accuracy_list)/len(accuracy_list))"
   ]
  },
  {
   "cell_type": "markdown",
   "metadata": {},
   "source": [
    "**for train_index, test_index in kf.split(DF_classification[['EXPERIENCE SCORE','TOTAL SPENT','INCOME']]):**\n",
    "\n",
    "This line of code is a for loop that takes its input from the Pandas data frame that contains the most important features.\n",
    "\n",
    "The data frame has 500 rows. Each row represents a customer. In each iteration, the function kf.split() creates the following 2 NumPy arrays:\n",
    "\n",
    "train_index has 450 indexes for training.\n",
    "test_index has 50 indexes for testing.\n",
    "Each index points to a row in the DF_classification Pandas data frame. In each iteration, these indexes are changed in the same manner as explained in the section \"K-fold cross-validation\".\n",
    "**X=DF_classification[['EXPERIENCE SCORE','TOTAL SPENT','INCOME']]**\n",
    "\n",
    "This line creates a new Pandas data frame X with only the input features from the DF_classification Pandas data frame.\n",
    "\n",
    "**Y=DF_classification['LOYALTY GROUP']**\n",
    "\n",
    "This line creates a new Pandas data frame “Y” with only the target feature.\n",
    "\n",
    "**X_train,X_test=X.iloc[train_index], X.iloc[test_index]**\n",
    "\n",
    "The function “iloc[ ]” takes an index number as an argument and returns the corresponding value (row) to that index in a Pandas data frame.\n",
    "\n",
    "Therefore, the whole line of code, returns two Pandas data frames with the values (rows) corresponding to these indexes in the X data frame.\n",
    "\n",
    "**Y_train,Y_test=Y.iloc[train_index], Y.iloc[test_index]**\n",
    "\n",
    "This line returns the values for the output labels for the training and testing sets.\n",
    "\n",
    "**accuracy=Training_Testing_Accuracy_Only(clf_Tree,X_train,Y_train,X_test,Y_test)**\n",
    "\n",
    "This line uses the custom function that we defined before to train and test the model and returns the accuracy of each K fold.\n",
    "\n",
    "**accuracy_list.append(accuracy)**\n",
    "\n",
    "This line appends the accuracy that is calculated in each iteration to accuracy_list. This function is used to calculate the overall accuracy of all K folds.\n",
    "\n",
    "### Training and testing the K-Nearest Neighbor classifier with a 10-fold cross-validation and finding the optimum K_neighbors\n"
   ]
  },
  {
   "cell_type": "code",
   "execution_count": 50,
   "metadata": {},
   "outputs": [],
   "source": [
    "# Declare an empty list to store the accuracy for each iteration of K_neighbors\n",
    "accuracy_list_for_each_K_neighbours=[]"
   ]
  },
  {
   "cell_type": "code",
   "execution_count": 51,
   "metadata": {},
   "outputs": [
    {
     "name": "stdout",
     "output_type": "stream",
     "text": [
      "accuracy = 64.0%\n",
      "accuracy = 64.0%\n",
      "accuracy = 66.0%\n",
      "accuracy = 64.0%\n",
      "accuracy = 82.0%\n",
      "accuracy = 68.0%\n",
      "accuracy = 70.0%\n",
      "accuracy = 64.0%\n",
      "accuracy = 76.0%\n",
      "accuracy = 68.0%\n",
      "Overall Accuracy for K_neighbours= 1 is 68.6\n",
      "accuracy = 74.0%\n",
      "accuracy = 60.0%\n",
      "accuracy = 72.0%\n",
      "accuracy = 74.0%\n",
      "accuracy = 74.0%\n",
      "accuracy = 78.0%\n",
      "accuracy = 70.0%\n",
      "accuracy = 72.0%\n",
      "accuracy = 82.0%\n",
      "accuracy = 76.0%\n",
      "Overall Accuracy for K_neighbours= 2 is 73.2\n",
      "accuracy = 72.0%\n",
      "accuracy = 64.0%\n",
      "accuracy = 68.0%\n",
      "accuracy = 70.0%\n",
      "accuracy = 78.0%\n",
      "accuracy = 78.0%\n",
      "accuracy = 70.0%\n",
      "accuracy = 70.0%\n",
      "accuracy = 76.0%\n",
      "accuracy = 76.0%\n",
      "Overall Accuracy for K_neighbours= 3 is 72.20000000000002\n",
      "accuracy = 82.0%\n",
      "accuracy = 66.0%\n",
      "accuracy = 72.0%\n",
      "accuracy = 74.0%\n",
      "accuracy = 80.0%\n",
      "accuracy = 82.0%\n",
      "accuracy = 70.0%\n",
      "accuracy = 76.0%\n",
      "accuracy = 78.0%\n",
      "accuracy = 78.0%\n",
      "Overall Accuracy for K_neighbours= 4 is 75.80000000000001\n",
      "accuracy = 78.0%\n",
      "accuracy = 64.0%\n",
      "accuracy = 80.0%\n",
      "accuracy = 74.0%\n",
      "accuracy = 80.0%\n",
      "accuracy = 76.0%\n",
      "accuracy = 74.0%\n",
      "accuracy = 72.0%\n",
      "accuracy = 72.0%\n",
      "accuracy = 80.0%\n",
      "Overall Accuracy for K_neighbours= 5 is 74.99999999999999\n",
      "accuracy = 76.0%\n",
      "accuracy = 66.0%\n",
      "accuracy = 74.0%\n",
      "accuracy = 72.0%\n",
      "accuracy = 80.0%\n",
      "accuracy = 76.0%\n",
      "accuracy = 74.0%\n",
      "accuracy = 74.0%\n",
      "accuracy = 78.0%\n",
      "accuracy = 84.0%\n",
      "Overall Accuracy for K_neighbours= 6 is 75.4\n",
      "accuracy = 68.0%\n",
      "accuracy = 66.0%\n",
      "accuracy = 82.0%\n",
      "accuracy = 72.0%\n",
      "accuracy = 84.0%\n",
      "accuracy = 76.0%\n",
      "accuracy = 76.0%\n",
      "accuracy = 74.0%\n",
      "accuracy = 76.0%\n",
      "accuracy = 82.0%\n",
      "Overall Accuracy for K_neighbours= 7 is 75.6\n",
      "accuracy = 74.0%\n",
      "accuracy = 70.0%\n",
      "accuracy = 84.0%\n",
      "accuracy = 68.0%\n",
      "accuracy = 80.0%\n",
      "accuracy = 76.0%\n",
      "accuracy = 76.0%\n",
      "accuracy = 84.0%\n",
      "accuracy = 76.0%\n",
      "accuracy = 86.0%\n",
      "Overall Accuracy for K_neighbours= 8 is 77.39999999999999\n",
      "accuracy = 72.0%\n",
      "accuracy = 68.0%\n",
      "accuracy = 84.0%\n",
      "accuracy = 68.0%\n",
      "accuracy = 84.0%\n",
      "accuracy = 76.0%\n",
      "accuracy = 76.0%\n",
      "accuracy = 80.0%\n",
      "accuracy = 76.0%\n",
      "accuracy = 86.0%\n",
      "Overall Accuracy for K_neighbours= 9 is 76.99999999999999\n",
      "accuracy = 76.0%\n",
      "accuracy = 70.0%\n",
      "accuracy = 82.0%\n",
      "accuracy = 68.0%\n",
      "accuracy = 82.0%\n",
      "accuracy = 80.0%\n",
      "accuracy = 78.0%\n",
      "accuracy = 78.0%\n",
      "accuracy = 76.0%\n",
      "accuracy = 86.0%\n",
      "Overall Accuracy for K_neighbours= 10 is 77.60000000000001\n",
      "accuracy = 74.0%\n",
      "accuracy = 70.0%\n",
      "accuracy = 84.0%\n",
      "accuracy = 68.0%\n",
      "accuracy = 82.0%\n",
      "accuracy = 76.0%\n",
      "accuracy = 78.0%\n",
      "accuracy = 80.0%\n",
      "accuracy = 76.0%\n",
      "accuracy = 82.0%\n",
      "Overall Accuracy for K_neighbours= 11 is 77.0\n",
      "accuracy = 76.0%\n",
      "accuracy = 70.0%\n",
      "accuracy = 78.0%\n",
      "accuracy = 68.0%\n",
      "accuracy = 80.0%\n",
      "accuracy = 78.0%\n",
      "accuracy = 80.0%\n",
      "accuracy = 80.0%\n",
      "accuracy = 76.0%\n",
      "accuracy = 84.0%\n",
      "Overall Accuracy for K_neighbours= 12 is 77.0\n",
      "accuracy = 76.0%\n",
      "accuracy = 72.0%\n",
      "accuracy = 82.0%\n",
      "accuracy = 70.0%\n",
      "accuracy = 82.0%\n",
      "accuracy = 78.0%\n",
      "accuracy = 78.0%\n",
      "accuracy = 80.0%\n",
      "accuracy = 74.0%\n",
      "accuracy = 82.0%\n",
      "Overall Accuracy for K_neighbours= 13 is 77.4\n",
      "accuracy = 76.0%\n",
      "accuracy = 68.0%\n",
      "accuracy = 80.0%\n",
      "accuracy = 68.0%\n",
      "accuracy = 80.0%\n",
      "accuracy = 78.0%\n",
      "accuracy = 72.0%\n",
      "accuracy = 84.0%\n",
      "accuracy = 74.0%\n",
      "accuracy = 82.0%\n",
      "Overall Accuracy for K_neighbours= 14 is 76.20000000000002\n"
     ]
    }
   ],
   "source": [
    "# Train and test the KNN classifier by using two loops: An outer loop to iterate over the values of K neighbors 1 - 10 and an inner loop for training and testing the model by using cross-validation\n",
    "\n",
    "for k_neighbours in range(1,15):\n",
    "    clf_NN = KNeighborsClassifier(n_neighbors=k_neighbours)\n",
    "    accuracy_list_k_fold = []\n",
    "    for train_index, test_index in kf.split(DF_classification[['EXPERIENCE SCORE','TOTAL SPENT','INCOME']]):\n",
    "        X=DF_classification[['EXPERIENCE SCORE','TOTAL SPENT','INCOME']]\n",
    "        Y=DF_classification['LOYALTY GROUP']\n",
    "        X_train,X_test=X.iloc[train_index], X.iloc[test_index]\n",
    "        Y_train,Y_test=Y.iloc[train_index], Y.iloc[test_index]    \n",
    "        accuracy=Training_Testing_Accuracy_Only(clf_NN,X_train,Y_train,X_test,Y_test)\n",
    "        accuracy_list_k_fold.append(accuracy)\n",
    "    accuracy_list_for_each_K_neighbours.append(100 * sum(accuracy_list_k_fold)/len(accuracy_list_k_fold))\n",
    "    print(\"Overall Accuracy for K_neighbours=\",k_neighbours,\"is\",accuracy_list_for_each_K_neighbours[k_neighbours-1])"
   ]
  },
  {
   "cell_type": "markdown",
   "metadata": {},
   "source": [
    "**clf_NN = KNeighborsClassifier(n_neighbors=k_neighbours)**\n",
    "\n",
    "This line defines a new KNN classifier in each iteration with a different value of K_neighbours.\n",
    "\n",
    "**accuracy_list_k_fold = []**\n",
    "\n",
    "This line defines an empty list to store the accuracy that is calculated for each fold.\n",
    "\n",
    "**accuracy_list_k_fold.append(accuracy)**\n",
    "\n",
    "This line appends the accuracy of each fold to accuracy_list_k_fold. This list is used later to calculate the overall accuracy of all K folds for a specific value of k_neighbours.\n",
    "\n",
    "**accuracy_list_for_each_K_neighbours.append(100 * sum(accuracy_list_k_fold)/len(accuracy_list_k_fold))**\n",
    "\n",
    "This line appends the overall accuracy of the model for a specific value of k_neighbours. The maximum accuracy in that list corresponds to the optimal number of neighbors (optimum k_neighbours).\n",
    "\n",
    "**print(\"Overall Accuracy for K_neighbours=\",k_neighbours,\"is\",accuracy_list_for_each_K_neighbours[k_neighbours-1])**\n",
    "\n",
    "This line prints the values of accuracy_list_for_each_K_neighbours against each value of k_neighbours. From the following output, we can conclude that the optimum value for k_neighbours is 10:"
   ]
  },
  {
   "cell_type": "code",
   "execution_count": 52,
   "metadata": {},
   "outputs": [],
   "source": [
    "# identifying the optimum K from plotting the accuracy list\n",
    "from matplotlib import pyplot as plt"
   ]
  },
  {
   "cell_type": "code",
   "execution_count": 53,
   "metadata": {},
   "outputs": [
    {
     "data": {
      "text/plain": [
       "Text(0, 0.5, '10 k-Fold Accuracy')"
      ]
     },
     "execution_count": 53,
     "metadata": {},
     "output_type": "execute_result"
    },
    {
     "data": {
      "image/png": "[encoded data removed]",
      "text/plain": [
       "<Figure size 432x288 with 1 Axes>"
      ]
     },
     "metadata": {
      "needs_background": "light"
     },
     "output_type": "display_data"
    }
   ],
   "source": [
    "plt.plot(range(1,15),accuracy_list_for_each_K_neighbours)\n",
    "plt.legend(['Accuracy per K neighbours'], loc='upper left')\n",
    "plt.xlabel(\"Number of neighbors\")\n",
    "plt.ylabel(\"10 k-Fold Accuracy\")"
   ]
  },
  {
   "attachments": {
    "image.png": {
     "image/png": "[encoded data removed]"
    }
   },
   "cell_type": "markdown",
   "metadata": {},
   "source": [
    "### Exercise\n",
    "To practice what you have learned in this course, complete the following steps:\n",
    "![image.png](attachment:image.png)\n",
    "\n",
    "Compare the accuracy that you obtained in each case with the accuracy that you got by using the most relevant features (EXPERIENCE SCORE, INCOME, and TOTAL SPENT)."
   ]
  },
  {
   "cell_type": "markdown",
   "metadata": {},
   "source": [
    "## KNN accuracy with [experience, income, total spent and gender]"
   ]
  },
  {
   "cell_type": "code",
   "execution_count": 54,
   "metadata": {},
   "outputs": [
    {
     "data": {
      "text/html": [
       "<div>\n",
       "<style scoped>\n",
       "    .dataframe tbody tr th:only-of-type {\n",
       "        vertical-align: middle;\n",
       "    }\n",
       "\n",
       "    .dataframe tbody tr th {\n",
       "        vertical-align: top;\n",
       "    }\n",
       "\n",
       "    .dataframe thead th {\n",
       "        text-align: right;\n",
       "    }\n",
       "</style>\n",
       "<table border=\"1\" class=\"dataframe\">\n",
       "  <thead>\n",
       "    <tr style=\"text-align: right;\">\n",
       "      <th></th>\n",
       "      <th>EXPERIENCE SCORE</th>\n",
       "      <th>TOTAL SPENT</th>\n",
       "      <th>INCOME</th>\n",
       "      <th>GENDER</th>\n",
       "      <th>LOYALTY GROUP</th>\n",
       "    </tr>\n",
       "  </thead>\n",
       "  <tbody>\n",
       "    <tr>\n",
       "      <th>0</th>\n",
       "      <td>5</td>\n",
       "      <td>6826.770</td>\n",
       "      <td>133498</td>\n",
       "      <td>0</td>\n",
       "      <td>enrolled</td>\n",
       "    </tr>\n",
       "    <tr>\n",
       "      <th>1</th>\n",
       "      <td>9</td>\n",
       "      <td>5062.451</td>\n",
       "      <td>94475</td>\n",
       "      <td>0</td>\n",
       "      <td>notenrolled</td>\n",
       "    </tr>\n",
       "    <tr>\n",
       "      <th>2</th>\n",
       "      <td>9</td>\n",
       "      <td>8562.440</td>\n",
       "      <td>88610</td>\n",
       "      <td>0</td>\n",
       "      <td>enrolled</td>\n",
       "    </tr>\n",
       "    <tr>\n",
       "      <th>3</th>\n",
       "      <td>8</td>\n",
       "      <td>5522.694</td>\n",
       "      <td>84313</td>\n",
       "      <td>0</td>\n",
       "      <td>enrolled</td>\n",
       "    </tr>\n",
       "    <tr>\n",
       "      <th>4</th>\n",
       "      <td>3</td>\n",
       "      <td>213.512</td>\n",
       "      <td>51498</td>\n",
       "      <td>0</td>\n",
       "      <td>notenrolled</td>\n",
       "    </tr>\n",
       "  </tbody>\n",
       "</table>\n",
       "</div>"
      ],
      "text/plain": [
       "   EXPERIENCE SCORE  TOTAL SPENT  INCOME  GENDER LOYALTY GROUP\n",
       "0                 5     6826.770  133498       0      enrolled\n",
       "1                 9     5062.451   94475       0   notenrolled\n",
       "2                 9     8562.440   88610       0      enrolled\n",
       "3                 8     5522.694   84313       0      enrolled\n",
       "4                 3      213.512   51498       0   notenrolled"
      ]
     },
     "execution_count": 54,
     "metadata": {},
     "output_type": "execute_result"
    }
   ],
   "source": [
    "DF2_Classification = customer_all_view[['EXPERIENCE SCORE','TOTAL SPENT','INCOME', 'GENDER', 'LOYALTY GROUP']]\n",
    "DF2_Classification.head()"
   ]
  },
  {
   "cell_type": "code",
   "execution_count": 55,
   "metadata": {},
   "outputs": [],
   "source": [
    "target_feature2 = pd.DataFrame(DF2_Classification['LOYALTY GROUP'])"
   ]
  },
  {
   "cell_type": "code",
   "execution_count": 56,
   "metadata": {},
   "outputs": [],
   "source": [
    "DF2_Classification = DF2_Classification.drop(['LOYALTY GROUP'],axis = 1)"
   ]
  },
  {
   "cell_type": "code",
   "execution_count": 57,
   "metadata": {},
   "outputs": [
    {
     "data": {
      "text/plain": [
       "array(['EXPERIENCE SCORE', 'TOTAL SPENT', 'INCOME', 'GENDER'],\n",
       "      dtype=object)"
      ]
     },
     "execution_count": 57,
     "metadata": {},
     "output_type": "execute_result"
    }
   ],
   "source": [
    "DF2_column_names = DF2_Classification.columns.values\n",
    "DF2_column_names"
   ]
  },
  {
   "cell_type": "code",
   "execution_count": 58,
   "metadata": {},
   "outputs": [
    {
     "data": {
      "text/plain": [
       "array([[0.44444444, 0.44653193, 0.8728178 , 0.        ],\n",
       "       [0.88888889, 0.33079041, 0.57204628, 0.        ],\n",
       "       [0.88888889, 0.56039405, 0.52684153, 0.        ],\n",
       "       ...,\n",
       "       [0.77777778, 0.40879128, 0.59422859, 0.        ],\n",
       "       [0.        , 0.        , 0.1092005 , 1.        ],\n",
       "       [0.88888889, 0.27303383, 0.4228205 , 1.        ]])"
      ]
     },
     "execution_count": 58,
     "metadata": {},
     "output_type": "execute_result"
    }
   ],
   "source": [
    "DF2_Classification = preprocessing.minmax_scale(DF2_Classification)\n",
    "DF2_Classification"
   ]
  },
  {
   "cell_type": "code",
   "execution_count": 59,
   "metadata": {},
   "outputs": [
    {
     "data": {
      "text/html": [
       "<div>\n",
       "<style scoped>\n",
       "    .dataframe tbody tr th:only-of-type {\n",
       "        vertical-align: middle;\n",
       "    }\n",
       "\n",
       "    .dataframe tbody tr th {\n",
       "        vertical-align: top;\n",
       "    }\n",
       "\n",
       "    .dataframe thead th {\n",
       "        text-align: right;\n",
       "    }\n",
       "</style>\n",
       "<table border=\"1\" class=\"dataframe\">\n",
       "  <thead>\n",
       "    <tr style=\"text-align: right;\">\n",
       "      <th></th>\n",
       "      <th>EXPERIENCE SCORE</th>\n",
       "      <th>TOTAL SPENT</th>\n",
       "      <th>INCOME</th>\n",
       "      <th>GENDER</th>\n",
       "      <th>LOYALTY GROUP</th>\n",
       "    </tr>\n",
       "  </thead>\n",
       "  <tbody>\n",
       "    <tr>\n",
       "      <th>0</th>\n",
       "      <td>0.444444</td>\n",
       "      <td>0.446532</td>\n",
       "      <td>0.872818</td>\n",
       "      <td>0.0</td>\n",
       "      <td>enrolled</td>\n",
       "    </tr>\n",
       "    <tr>\n",
       "      <th>1</th>\n",
       "      <td>0.888889</td>\n",
       "      <td>0.330790</td>\n",
       "      <td>0.572046</td>\n",
       "      <td>0.0</td>\n",
       "      <td>notenrolled</td>\n",
       "    </tr>\n",
       "    <tr>\n",
       "      <th>2</th>\n",
       "      <td>0.888889</td>\n",
       "      <td>0.560394</td>\n",
       "      <td>0.526842</td>\n",
       "      <td>0.0</td>\n",
       "      <td>enrolled</td>\n",
       "    </tr>\n",
       "    <tr>\n",
       "      <th>3</th>\n",
       "      <td>0.777778</td>\n",
       "      <td>0.360983</td>\n",
       "      <td>0.493722</td>\n",
       "      <td>0.0</td>\n",
       "      <td>enrolled</td>\n",
       "    </tr>\n",
       "    <tr>\n",
       "      <th>4</th>\n",
       "      <td>0.222222</td>\n",
       "      <td>0.012694</td>\n",
       "      <td>0.240799</td>\n",
       "      <td>0.0</td>\n",
       "      <td>notenrolled</td>\n",
       "    </tr>\n",
       "  </tbody>\n",
       "</table>\n",
       "</div>"
      ],
      "text/plain": [
       "   EXPERIENCE SCORE  TOTAL SPENT    INCOME  GENDER LOYALTY GROUP\n",
       "0          0.444444     0.446532  0.872818     0.0      enrolled\n",
       "1          0.888889     0.330790  0.572046     0.0   notenrolled\n",
       "2          0.888889     0.560394  0.526842     0.0      enrolled\n",
       "3          0.777778     0.360983  0.493722     0.0      enrolled\n",
       "4          0.222222     0.012694  0.240799     0.0   notenrolled"
      ]
     },
     "execution_count": 59,
     "metadata": {},
     "output_type": "execute_result"
    }
   ],
   "source": [
    "DF2_Classification = pd.DataFrame(DF2_Classification, columns= DF2_column_names)\n",
    "DF2_Classification = pd.concat([DF2_Classification, target_feature2], axis = 1)\n",
    "DF2_Classification.head()"
   ]
  },
  {
   "cell_type": "code",
   "execution_count": 60,
   "metadata": {},
   "outputs": [],
   "source": [
    "X_train,X_test,Y_train,Y_test = \\\n",
    "train_test_split(DF2_Classification[['EXPERIENCE SCORE','TOTAL SPENT','INCOME', 'GENDER']],DF2_Classification['LOYALTY GROUP'], test_size=0.2,random_state=42)"
   ]
  },
  {
   "cell_type": "code",
   "execution_count": 61,
   "metadata": {},
   "outputs": [],
   "source": [
    "# I will use 10 because it was optimal in the test above\n",
    "clf2_KNN = KNeighborsClassifier(n_neighbors= 10)"
   ]
  },
  {
   "cell_type": "code",
   "execution_count": 62,
   "metadata": {},
   "outputs": [
    {
     "data": {
      "text/plain": [
       "KNeighborsClassifier(algorithm='auto', leaf_size=30, metric='minkowski',\n",
       "                     metric_params=None, n_jobs=None, n_neighbors=10, p=2,\n",
       "                     weights='uniform')"
      ]
     },
     "execution_count": 62,
     "metadata": {},
     "output_type": "execute_result"
    }
   ],
   "source": [
    "clf2_KNN.fit(X_train, Y_train)"
   ]
  },
  {
   "cell_type": "code",
   "execution_count": 63,
   "metadata": {},
   "outputs": [],
   "source": [
    "predicted = clf2_KNN.predict(X_test)"
   ]
  },
  {
   "cell_type": "code",
   "execution_count": 64,
   "metadata": {},
   "outputs": [
    {
     "data": {
      "text/plain": [
       "array(['enrolled', 'enrolled', 'notenrolled', 'enrolled', 'notenrolled',\n",
       "       'enrolled', 'notenrolled', 'notenrolled', 'enrolled', 'enrolled',\n",
       "       'notenrolled', 'enrolled', 'notenrolled', 'enrolled',\n",
       "       'notenrolled', 'enrolled', 'enrolled', 'notenrolled', 'enrolled',\n",
       "       'notenrolled', 'notenrolled', 'notenrolled', 'enrolled',\n",
       "       'enrolled', 'enrolled', 'notenrolled', 'notenrolled', 'enrolled',\n",
       "       'enrolled', 'enrolled', 'enrolled', 'enrolled', 'enrolled',\n",
       "       'notenrolled', 'enrolled', 'notenrolled', 'notenrolled',\n",
       "       'enrolled', 'enrolled', 'enrolled', 'enrolled', 'enrolled',\n",
       "       'enrolled', 'enrolled', 'enrolled', 'enrolled', 'enrolled',\n",
       "       'notenrolled', 'enrolled', 'enrolled', 'notenrolled',\n",
       "       'notenrolled', 'notenrolled', 'enrolled', 'enrolled',\n",
       "       'notenrolled', 'enrolled', 'enrolled', 'notenrolled', 'enrolled',\n",
       "       'notenrolled', 'notenrolled', 'enrolled', 'enrolled', 'enrolled',\n",
       "       'enrolled', 'enrolled', 'enrolled', 'notenrolled', 'enrolled',\n",
       "       'notenrolled', 'enrolled', 'notenrolled', 'enrolled', 'enrolled',\n",
       "       'enrolled', 'enrolled', 'enrolled', 'notenrolled', 'enrolled',\n",
       "       'notenrolled', 'enrolled', 'enrolled', 'enrolled', 'notenrolled',\n",
       "       'enrolled', 'enrolled', 'enrolled', 'notenrolled', 'enrolled',\n",
       "       'enrolled', 'enrolled', 'enrolled', 'enrolled', 'notenrolled',\n",
       "       'enrolled', 'enrolled', 'enrolled', 'notenrolled', 'notenrolled'],\n",
       "      dtype=object)"
      ]
     },
     "execution_count": 64,
     "metadata": {},
     "output_type": "execute_result"
    }
   ],
   "source": [
    "predicted"
   ]
  },
  {
   "cell_type": "code",
   "execution_count": 65,
   "metadata": {},
   "outputs": [
    {
     "name": "stdout",
     "output_type": "stream",
     "text": [
      "accuracy = 73.0%\n",
      "              precision    recall  f1-score   support\n",
      "\n",
      "    enrolled       0.68      0.88      0.77        51\n",
      " notenrolled       0.82      0.57      0.67        49\n",
      "\n",
      "    accuracy                           0.73       100\n",
      "   macro avg       0.75      0.73      0.72       100\n",
      "weighted avg       0.75      0.73      0.72       100\n",
      "\n"
     ]
    }
   ],
   "source": [
    "acc = metrics.accuracy_score(Y_test, predicted)\n",
    "print('accuracy = ' + str(acc*100) + \"%\")\n",
    "print(metrics.classification_report(Y_test,predicted))"
   ]
  },
  {
   "cell_type": "markdown",
   "metadata": {},
   "source": [
    "KNN accuracy is 73% when gender is involved. It is 6% less accurate when we include gender which we had determined had no relationship with loyalty.\n",
    "\n",
    "\n",
    "## Decision tree for the same features"
   ]
  },
  {
   "cell_type": "code",
   "execution_count": 66,
   "metadata": {},
   "outputs": [
    {
     "data": {
      "text/plain": [
       "DecisionTreeClassifier(ccp_alpha=0.0, class_weight=None, criterion='entropy',\n",
       "                       max_depth=None, max_features=None, max_leaf_nodes=None,\n",
       "                       min_impurity_decrease=0.0, min_impurity_split=None,\n",
       "                       min_samples_leaf=1, min_samples_split=2,\n",
       "                       min_weight_fraction_leaf=0.0, presort='deprecated',\n",
       "                       random_state=0, splitter='best')"
      ]
     },
     "execution_count": 66,
     "metadata": {},
     "output_type": "execute_result"
    }
   ],
   "source": [
    "clf2_Tree=DecisionTreeClassifier(criterion=\"entropy\", random_state = 0)\n",
    "clf2_Tree"
   ]
  },
  {
   "cell_type": "code",
   "execution_count": 67,
   "metadata": {},
   "outputs": [
    {
     "name": "stdout",
     "output_type": "stream",
     "text": [
      "accuracy = 71.0%\n",
      "              precision    recall  f1-score   support\n",
      "\n",
      "    enrolled       0.71      0.73      0.72        51\n",
      " notenrolled       0.71      0.69      0.70        49\n",
      "\n",
      "    accuracy                           0.71       100\n",
      "   macro avg       0.71      0.71      0.71       100\n",
      "weighted avg       0.71      0.71      0.71       100\n",
      "\n"
     ]
    }
   ],
   "source": [
    "# train and test the tree model\n",
    "clf2_Tree.fit(X_train, Y_train)\n",
    "predicted = clf2_Tree .predict(X_test)\n",
    "acc = metrics.accuracy_score(Y_test,predicted)\n",
    "print ('accuracy = '+str(acc*100)+'%')\n",
    "print (metrics.classification_report(Y_test,predicted))"
   ]
  },
  {
   "cell_type": "markdown",
   "metadata": {},
   "source": [
    "The decision tree seems to be less accurate by 2%. Including Gender has also lowered the overall accuracy by 4%\n",
    "\n",
    "\n",
    "### KNN with features [Experience, Age, Total spent] "
   ]
  },
  {
   "cell_type": "code",
   "execution_count": 68,
   "metadata": {},
   "outputs": [
    {
     "data": {
      "text/html": [
       "<div>\n",
       "<style scoped>\n",
       "    .dataframe tbody tr th:only-of-type {\n",
       "        vertical-align: middle;\n",
       "    }\n",
       "\n",
       "    .dataframe tbody tr th {\n",
       "        vertical-align: top;\n",
       "    }\n",
       "\n",
       "    .dataframe thead th {\n",
       "        text-align: right;\n",
       "    }\n",
       "</style>\n",
       "<table border=\"1\" class=\"dataframe\">\n",
       "  <thead>\n",
       "    <tr style=\"text-align: right;\">\n",
       "      <th></th>\n",
       "      <th>EXPERIENCE SCORE</th>\n",
       "      <th>AGE</th>\n",
       "      <th>TOTAL SPENT</th>\n",
       "      <th>LOYALTY GROUP</th>\n",
       "    </tr>\n",
       "  </thead>\n",
       "  <tbody>\n",
       "    <tr>\n",
       "      <th>495</th>\n",
       "      <td>7</td>\n",
       "      <td>47</td>\n",
       "      <td>8501.464</td>\n",
       "      <td>enrolled</td>\n",
       "    </tr>\n",
       "    <tr>\n",
       "      <th>496</th>\n",
       "      <td>7</td>\n",
       "      <td>49</td>\n",
       "      <td>9903.658</td>\n",
       "      <td>enrolled</td>\n",
       "    </tr>\n",
       "    <tr>\n",
       "      <th>497</th>\n",
       "      <td>8</td>\n",
       "      <td>42</td>\n",
       "      <td>6251.466</td>\n",
       "      <td>enrolled</td>\n",
       "    </tr>\n",
       "    <tr>\n",
       "      <th>498</th>\n",
       "      <td>1</td>\n",
       "      <td>22</td>\n",
       "      <td>20.010</td>\n",
       "      <td>notenrolled</td>\n",
       "    </tr>\n",
       "    <tr>\n",
       "      <th>499</th>\n",
       "      <td>9</td>\n",
       "      <td>34</td>\n",
       "      <td>4182.032</td>\n",
       "      <td>notenrolled</td>\n",
       "    </tr>\n",
       "  </tbody>\n",
       "</table>\n",
       "</div>"
      ],
      "text/plain": [
       "     EXPERIENCE SCORE  AGE  TOTAL SPENT LOYALTY GROUP\n",
       "495                 7   47     8501.464      enrolled\n",
       "496                 7   49     9903.658      enrolled\n",
       "497                 8   42     6251.466      enrolled\n",
       "498                 1   22       20.010   notenrolled\n",
       "499                 9   34     4182.032   notenrolled"
      ]
     },
     "execution_count": 68,
     "metadata": {},
     "output_type": "execute_result"
    }
   ],
   "source": [
    "DF3_Classification = customer_all_view[['EXPERIENCE SCORE', 'AGE', 'TOTAL SPENT', 'LOYALTY GROUP']]\n",
    "DF3_Classification.tail()"
   ]
  },
  {
   "cell_type": "code",
   "execution_count": 69,
   "metadata": {},
   "outputs": [],
   "source": [
    "# separate target and input features\n",
    "target3_feature = DF3_Classification['LOYALTY GROUP']\n",
    "DF3_Classification = DF3_Classification.drop(['LOYALTY GROUP'], axis = 1)"
   ]
  },
  {
   "cell_type": "code",
   "execution_count": 70,
   "metadata": {},
   "outputs": [
    {
     "data": {
      "text/plain": [
       "array(['EXPERIENCE SCORE', 'AGE', 'TOTAL SPENT'], dtype=object)"
      ]
     },
     "execution_count": 70,
     "metadata": {},
     "output_type": "execute_result"
    }
   ],
   "source": [
    "DF3_column_names = DF3_Classification.columns.values\n",
    "DF3_column_names"
   ]
  },
  {
   "cell_type": "code",
   "execution_count": 71,
   "metadata": {},
   "outputs": [],
   "source": [
    "DF3_Classification = preprocessing.minmax_scale(DF3_Classification)\n",
    "DF3_Classification = pd.DataFrame(DF3_Classification, columns=DF3_column_names)"
   ]
  },
  {
   "cell_type": "code",
   "execution_count": 72,
   "metadata": {},
   "outputs": [],
   "source": [
    "DF3_Classification = pd.concat([DF3_Classification, target3_feature], axis = 1)"
   ]
  },
  {
   "cell_type": "code",
   "execution_count": 73,
   "metadata": {},
   "outputs": [
    {
     "data": {
      "text/html": [
       "<div>\n",
       "<style scoped>\n",
       "    .dataframe tbody tr th:only-of-type {\n",
       "        vertical-align: middle;\n",
       "    }\n",
       "\n",
       "    .dataframe tbody tr th {\n",
       "        vertical-align: top;\n",
       "    }\n",
       "\n",
       "    .dataframe thead th {\n",
       "        text-align: right;\n",
       "    }\n",
       "</style>\n",
       "<table border=\"1\" class=\"dataframe\">\n",
       "  <thead>\n",
       "    <tr style=\"text-align: right;\">\n",
       "      <th></th>\n",
       "      <th>EXPERIENCE SCORE</th>\n",
       "      <th>AGE</th>\n",
       "      <th>TOTAL SPENT</th>\n",
       "      <th>LOYALTY GROUP</th>\n",
       "    </tr>\n",
       "  </thead>\n",
       "  <tbody>\n",
       "    <tr>\n",
       "      <th>0</th>\n",
       "      <td>0.444444</td>\n",
       "      <td>0.638889</td>\n",
       "      <td>0.446532</td>\n",
       "      <td>enrolled</td>\n",
       "    </tr>\n",
       "    <tr>\n",
       "      <th>1</th>\n",
       "      <td>0.888889</td>\n",
       "      <td>0.333333</td>\n",
       "      <td>0.330790</td>\n",
       "      <td>notenrolled</td>\n",
       "    </tr>\n",
       "    <tr>\n",
       "      <th>2</th>\n",
       "      <td>0.888889</td>\n",
       "      <td>0.305556</td>\n",
       "      <td>0.560394</td>\n",
       "      <td>enrolled</td>\n",
       "    </tr>\n",
       "    <tr>\n",
       "      <th>3</th>\n",
       "      <td>0.777778</td>\n",
       "      <td>0.277778</td>\n",
       "      <td>0.360983</td>\n",
       "      <td>enrolled</td>\n",
       "    </tr>\n",
       "    <tr>\n",
       "      <th>4</th>\n",
       "      <td>0.222222</td>\n",
       "      <td>0.166667</td>\n",
       "      <td>0.012694</td>\n",
       "      <td>notenrolled</td>\n",
       "    </tr>\n",
       "  </tbody>\n",
       "</table>\n",
       "</div>"
      ],
      "text/plain": [
       "   EXPERIENCE SCORE       AGE  TOTAL SPENT LOYALTY GROUP\n",
       "0          0.444444  0.638889     0.446532      enrolled\n",
       "1          0.888889  0.333333     0.330790   notenrolled\n",
       "2          0.888889  0.305556     0.560394      enrolled\n",
       "3          0.777778  0.277778     0.360983      enrolled\n",
       "4          0.222222  0.166667     0.012694   notenrolled"
      ]
     },
     "execution_count": 73,
     "metadata": {},
     "output_type": "execute_result"
    }
   ],
   "source": [
    "DF3_Classification.head()"
   ]
  },
  {
   "cell_type": "code",
   "execution_count": 74,
   "metadata": {},
   "outputs": [],
   "source": [
    "X_train,X_test,Y_train,Y_test = \\\n",
    "train_test_split(DF3_Classification[['EXPERIENCE SCORE', 'AGE','TOTAL SPENT']], DF3_Classification['LOYALTY GROUP'], random_state = 42, test_size = 0.2)"
   ]
  },
  {
   "cell_type": "code",
   "execution_count": 75,
   "metadata": {},
   "outputs": [],
   "source": [
    "clf3_KNN = KNeighborsClassifier(n_neighbors= 10)"
   ]
  },
  {
   "cell_type": "code",
   "execution_count": 76,
   "metadata": {},
   "outputs": [
    {
     "data": {
      "text/plain": [
       "KNeighborsClassifier(algorithm='auto', leaf_size=30, metric='minkowski',\n",
       "                     metric_params=None, n_jobs=None, n_neighbors=10, p=2,\n",
       "                     weights='uniform')"
      ]
     },
     "execution_count": 76,
     "metadata": {},
     "output_type": "execute_result"
    }
   ],
   "source": [
    "clf3_KNN.fit(X_train, Y_train)"
   ]
  },
  {
   "cell_type": "code",
   "execution_count": 77,
   "metadata": {},
   "outputs": [
    {
     "data": {
      "text/plain": [
       "array(['enrolled', 'notenrolled', 'notenrolled', 'enrolled', 'enrolled',\n",
       "       'notenrolled', 'notenrolled', 'notenrolled', 'enrolled',\n",
       "       'enrolled', 'notenrolled', 'enrolled', 'notenrolled', 'enrolled',\n",
       "       'notenrolled', 'enrolled', 'enrolled', 'notenrolled', 'enrolled',\n",
       "       'notenrolled', 'enrolled', 'enrolled', 'enrolled', 'enrolled',\n",
       "       'notenrolled', 'notenrolled', 'enrolled', 'enrolled', 'enrolled',\n",
       "       'notenrolled', 'enrolled', 'enrolled', 'enrolled', 'enrolled',\n",
       "       'enrolled', 'notenrolled', 'notenrolled', 'enrolled', 'enrolled',\n",
       "       'enrolled', 'enrolled', 'enrolled', 'enrolled', 'enrolled',\n",
       "       'enrolled', 'enrolled', 'enrolled', 'notenrolled', 'enrolled',\n",
       "       'enrolled', 'notenrolled', 'notenrolled', 'notenrolled',\n",
       "       'enrolled', 'enrolled', 'enrolled', 'notenrolled', 'enrolled',\n",
       "       'notenrolled', 'enrolled', 'notenrolled', 'notenrolled',\n",
       "       'enrolled', 'enrolled', 'enrolled', 'notenrolled', 'enrolled',\n",
       "       'notenrolled', 'notenrolled', 'enrolled', 'notenrolled',\n",
       "       'enrolled', 'notenrolled', 'enrolled', 'enrolled', 'enrolled',\n",
       "       'enrolled', 'enrolled', 'notenrolled', 'enrolled', 'enrolled',\n",
       "       'enrolled', 'enrolled', 'enrolled', 'notenrolled', 'enrolled',\n",
       "       'enrolled', 'enrolled', 'notenrolled', 'enrolled', 'enrolled',\n",
       "       'enrolled', 'enrolled', 'enrolled', 'notenrolled', 'enrolled',\n",
       "       'enrolled', 'enrolled', 'notenrolled', 'notenrolled'], dtype=object)"
      ]
     },
     "execution_count": 77,
     "metadata": {},
     "output_type": "execute_result"
    }
   ],
   "source": [
    "predicted = clf3_KNN.predict(X_test)\n",
    "predicted"
   ]
  },
  {
   "cell_type": "code",
   "execution_count": 78,
   "metadata": {},
   "outputs": [
    {
     "name": "stdout",
     "output_type": "stream",
     "text": [
      "accuracy = 77.0%\n",
      "              precision    recall  f1-score   support\n",
      "\n",
      "    enrolled       0.71      0.92      0.80        51\n",
      " notenrolled       0.88      0.61      0.72        49\n",
      "\n",
      "    accuracy                           0.77       100\n",
      "   macro avg       0.80      0.77      0.76       100\n",
      "weighted avg       0.80      0.77      0.76       100\n",
      "\n"
     ]
    }
   ],
   "source": [
    "acc = metrics.accuracy_score(Y_test, predicted)\n",
    "print('accuracy = ' + str(acc*100) + \"%\")\n",
    "print(metrics.classification_report(Y_test,predicted))"
   ]
  },
  {
   "cell_type": "markdown",
   "metadata": {},
   "source": [
    "Accuracy is down by 2% compared to the input features that had income instead of age. Accuracy of this model is 77% whereas the first had 79%.\n",
    "\n",
    "\n",
    "### Using Decision Trees"
   ]
  },
  {
   "cell_type": "code",
   "execution_count": 79,
   "metadata": {},
   "outputs": [
    {
     "data": {
      "text/plain": [
       "DecisionTreeClassifier(ccp_alpha=0.0, class_weight=None, criterion='entropy',\n",
       "                       max_depth=None, max_features=None, max_leaf_nodes=None,\n",
       "                       min_impurity_decrease=0.0, min_impurity_split=None,\n",
       "                       min_samples_leaf=1, min_samples_split=2,\n",
       "                       min_weight_fraction_leaf=0.0, presort='deprecated',\n",
       "                       random_state=0, splitter='best')"
      ]
     },
     "execution_count": 79,
     "metadata": {},
     "output_type": "execute_result"
    }
   ],
   "source": [
    "clf3_Tree = DecisionTreeClassifier(criterion='entropy', random_state=0)\n",
    "clf3_Tree"
   ]
  },
  {
   "cell_type": "code",
   "execution_count": 80,
   "metadata": {},
   "outputs": [
    {
     "name": "stdout",
     "output_type": "stream",
     "text": [
      "accuracy = 75.0%\n",
      "              precision    recall  f1-score   support\n",
      "\n",
      "    enrolled       0.80      0.69      0.74        51\n",
      " notenrolled       0.71      0.82      0.76        49\n",
      "\n",
      "    accuracy                           0.75       100\n",
      "   macro avg       0.75      0.75      0.75       100\n",
      "weighted avg       0.76      0.75      0.75       100\n",
      "\n"
     ]
    }
   ],
   "source": [
    "# train and test the tree model\n",
    "clf3_Tree.fit(X_train,Y_train)\n",
    "predicted = clf3_Tree.predict(X_test)\n",
    "acc = metrics.accuracy_score(Y_test, predicted)\n",
    "print ('accuracy = '+str(acc*100)+'%')\n",
    "print (metrics.classification_report(Y_test,predicted))"
   ]
  },
  {
   "cell_type": "markdown",
   "metadata": {},
   "source": [
    "Accuracy is just the same as the first one. Using this dataset, decision trees are less accurate compared to KNN.\n",
    "To answer the question asked above:\n",
    "\n",
    "| Input Features | KNN Accuracy | Decision Trees Accuracy |\n",
    "| ---------------| -------------| ------------------------|\n",
    "| Experience score, income, total spent | 79% | 75% |\n",
    "| Experience score, gender, income, total spent | 73% | 71% |\n",
    "| Experience score, age, total spent | 77% | 75% |\n",
    "\n",
    "However in this table the first row, n = 8"
   ]
  },
  {
   "cell_type": "code",
   "execution_count": 81,
   "metadata": {},
   "outputs": [],
   "source": [
    "DF4_Classification = customer_all_view[['EXPERIENCE SCORE', 'INCOME', 'TOTAL SPENT', 'LOYALTY GROUP']]"
   ]
  },
  {
   "cell_type": "code",
   "execution_count": 82,
   "metadata": {},
   "outputs": [],
   "source": [
    "target4_feature = DF4_Classification['LOYALTY GROUP']"
   ]
  },
  {
   "cell_type": "code",
   "execution_count": 83,
   "metadata": {},
   "outputs": [
    {
     "data": {
      "text/plain": [
       "array(['EXPERIENCE SCORE', 'INCOME', 'TOTAL SPENT', 'LOYALTY GROUP'],\n",
       "      dtype=object)"
      ]
     },
     "execution_count": 83,
     "metadata": {},
     "output_type": "execute_result"
    }
   ],
   "source": [
    "DF4_column_names = DF4_Classification.columns.values\n",
    "DF4_column_names"
   ]
  },
  {
   "cell_type": "code",
   "execution_count": 84,
   "metadata": {},
   "outputs": [],
   "source": [
    "DF4_Classification = DF4_Classification.drop(['LOYALTY GROUP'], axis = 1)\n",
    "DF4_Classification = preprocessing.minmax_scale(DF4_Classification)"
   ]
  },
  {
   "cell_type": "code",
   "execution_count": 85,
   "metadata": {},
   "outputs": [],
   "source": [
    "DF4_column_names = np.array(['EXPERIENCE SCORE','INCOME', 'TOTAL SPENT'])"
   ]
  },
  {
   "cell_type": "code",
   "execution_count": 86,
   "metadata": {},
   "outputs": [],
   "source": [
    "DF4_Classification = pd.DataFrame(DF4_Classification, columns=DF4_column_names)"
   ]
  },
  {
   "cell_type": "code",
   "execution_count": 87,
   "metadata": {},
   "outputs": [],
   "source": [
    "DF4_Classification = pd.concat([DF4_Classification, target4_feature], axis =1)"
   ]
  },
  {
   "cell_type": "code",
   "execution_count": 88,
   "metadata": {},
   "outputs": [],
   "source": [
    "X_train,X_test,Y_train,Y_test = \\\n",
    "train_test_split(DF4_Classification[['EXPERIENCE SCORE', 'INCOME', 'TOTAL SPENT']], DF4_Classification['LOYALTY GROUP'], random_state = 42, test_size = 0.2)"
   ]
  },
  {
   "cell_type": "code",
   "execution_count": 89,
   "metadata": {},
   "outputs": [],
   "source": [
    "clf4_KNN = KNeighborsClassifier(n_neighbors=10)"
   ]
  },
  {
   "cell_type": "code",
   "execution_count": 90,
   "metadata": {},
   "outputs": [
    {
     "data": {
      "text/plain": [
       "KNeighborsClassifier(algorithm='auto', leaf_size=30, metric='minkowski',\n",
       "                     metric_params=None, n_jobs=None, n_neighbors=10, p=2,\n",
       "                     weights='uniform')"
      ]
     },
     "execution_count": 90,
     "metadata": {},
     "output_type": "execute_result"
    }
   ],
   "source": [
    "clf4_KNN.fit(X_train,Y_train)"
   ]
  },
  {
   "cell_type": "code",
   "execution_count": 91,
   "metadata": {},
   "outputs": [
    {
     "data": {
      "text/plain": [
       "array(['enrolled', 'enrolled', 'notenrolled', 'enrolled', 'enrolled',\n",
       "       'notenrolled', 'notenrolled', 'notenrolled', 'enrolled',\n",
       "       'enrolled', 'notenrolled', 'enrolled', 'notenrolled', 'enrolled',\n",
       "       'notenrolled', 'enrolled', 'enrolled', 'notenrolled', 'enrolled',\n",
       "       'notenrolled', 'enrolled', 'enrolled', 'enrolled', 'enrolled',\n",
       "       'notenrolled', 'notenrolled', 'enrolled', 'enrolled', 'enrolled',\n",
       "       'notenrolled', 'enrolled', 'enrolled', 'enrolled', 'enrolled',\n",
       "       'enrolled', 'notenrolled', 'notenrolled', 'enrolled',\n",
       "       'notenrolled', 'enrolled', 'enrolled', 'enrolled', 'enrolled',\n",
       "       'enrolled', 'enrolled', 'enrolled', 'enrolled', 'notenrolled',\n",
       "       'enrolled', 'enrolled', 'notenrolled', 'notenrolled',\n",
       "       'notenrolled', 'enrolled', 'enrolled', 'enrolled', 'notenrolled',\n",
       "       'enrolled', 'notenrolled', 'enrolled', 'notenrolled',\n",
       "       'notenrolled', 'enrolled', 'enrolled', 'enrolled', 'notenrolled',\n",
       "       'enrolled', 'enrolled', 'notenrolled', 'enrolled', 'notenrolled',\n",
       "       'enrolled', 'notenrolled', 'enrolled', 'enrolled', 'enrolled',\n",
       "       'enrolled', 'enrolled', 'notenrolled', 'enrolled', 'notenrolled',\n",
       "       'enrolled', 'enrolled', 'enrolled', 'notenrolled', 'enrolled',\n",
       "       'enrolled', 'enrolled', 'notenrolled', 'enrolled', 'enrolled',\n",
       "       'enrolled', 'enrolled', 'enrolled', 'notenrolled', 'notenrolled',\n",
       "       'enrolled', 'enrolled', 'notenrolled', 'notenrolled'], dtype=object)"
      ]
     },
     "execution_count": 91,
     "metadata": {},
     "output_type": "execute_result"
    }
   ],
   "source": [
    "predicted = clf4_KNN.predict(X_test)\n",
    "predicted"
   ]
  },
  {
   "cell_type": "code",
   "execution_count": 92,
   "metadata": {},
   "outputs": [
    {
     "name": "stdout",
     "output_type": "stream",
     "text": [
      "This model's accuracy 78.0%\n",
      "              precision    recall  f1-score   support\n",
      "\n",
      "    enrolled       0.72      0.92      0.81        51\n",
      " notenrolled       0.89      0.63      0.74        49\n",
      "\n",
      "    accuracy                           0.78       100\n",
      "   macro avg       0.80      0.78      0.77       100\n",
      "weighted avg       0.80      0.78      0.77       100\n",
      "\n"
     ]
    }
   ],
   "source": [
    "acc = metrics.accuracy_score(Y_test, predicted)\n",
    "print(\"This model's accuracy \"+ str(acc*100) + \"%\")\n",
    "print(metrics.classification_report(Y_test,predicted))"
   ]
  },
  {
   "cell_type": "markdown",
   "metadata": {},
   "source": [
    "### Using Decision Trees"
   ]
  },
  {
   "cell_type": "code",
   "execution_count": 93,
   "metadata": {},
   "outputs": [],
   "source": [
    "clf4_Tree = DecisionTreeClassifier(criterion = \"entropy\", random_state = 0)"
   ]
  },
  {
   "cell_type": "code",
   "execution_count": 94,
   "metadata": {},
   "outputs": [
    {
     "name": "stdout",
     "output_type": "stream",
     "text": [
      "This model's accuracy = 74.0%\n",
      "              precision    recall  f1-score   support\n",
      "\n",
      "    enrolled       0.76      0.73      0.74        51\n",
      " notenrolled       0.73      0.76      0.74        49\n",
      "\n",
      "    accuracy                           0.74       100\n",
      "   macro avg       0.74      0.74      0.74       100\n",
      "weighted avg       0.74      0.74      0.74       100\n",
      "\n"
     ]
    }
   ],
   "source": [
    "clf4_Tree.fit(X_train,Y_train)\n",
    "predicted = clf4_Tree.predict(X_test)\n",
    "acc = metrics.accuracy_score(Y_test, predicted)\n",
    "print(\"This model's accuracy = \"+ str(acc*100) + \"%\")\n",
    "print(metrics.classification_report(Y_test, predicted))"
   ]
  },
  {
   "cell_type": "markdown",
   "metadata": {},
   "source": [
    "When all levels are the same, meaning when n = 10 for all data sets:\n",
    "\n",
    "| Input Features | KNN Accuracy | Decision Trees Accuracy |\n",
    "| ---------------| -------------| ------------------------|\n",
    "| Experience score, income, total spent | 78% | 74% |\n",
    "| Experience score, gender, income, total spent | 73% | 71% |\n",
    "| Experience score, age, total spent | 77% | 75% |\n",
    "\n",
    "The first and last models seem to have similar-ish accuracies, difference is only 1%. We also see that Gender should not be included for it lessens accuracy."
   ]
  },
  {
   "cell_type": "code",
   "execution_count": null,
   "metadata": {},
   "outputs": [],
   "source": []
  },
  {
   "cell_type": "code",
   "execution_count": null,
   "metadata": {},
   "outputs": [],
   "source": []
  }
 ],
 "metadata": {
  "kernelspec": {
   "display_name": "Python 3",
   "language": "python",
   "name": "python3"
  },
  "language_info": {
   "codemirror_mode": {
    "name": "ipython",
    "version": 3
   },
   "file_extension": ".py",
   "mimetype": "text/x-python",
   "name": "python",
   "nbconvert_exporter": "python",
   "pygments_lexer": "ipython3",
   "version": "3.7.6"
  }
 },
 "nbformat": 4,
 "nbformat_minor": 1
}
